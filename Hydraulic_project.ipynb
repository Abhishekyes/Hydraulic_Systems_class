{
  "nbformat": 4,
  "nbformat_minor": 0,
  "metadata": {
    "colab": {
      "provenance": []
    },
    "kernelspec": {
      "name": "python3",
      "display_name": "Python 3"
    },
    "language_info": {
      "name": "python"
    }
  },
  "cells": [
    {
      "cell_type": "code",
      "metadata": {
        "id": "_aSOSeLDXRLx"
      },
      "source": [
        "import numpy as np \n",
        "import matplotlib.pyplot as plt  \n",
        "import pandas as pd"
      ],
      "execution_count": 1,
      "outputs": []
    },
    {
      "cell_type": "code",
      "metadata": {
        "id": "4kCoMkXbXdud"
      },
      "source": [
        "def get_doc_file(dic_path):\n",
        "  doc_file= open(dic_path, 'r', encoding= 'ISO-8859-1')\n",
        "  return doc_file.read()"
      ],
      "execution_count": 2,
      "outputs": []
    },
    {
      "cell_type": "markdown",
      "metadata": {
        "id": "5w7t6T3UXoYS"
      },
      "source": [
        "# Description"
      ]
    },
    {
      "cell_type": "code",
      "metadata": {
        "colab": {
          "base_uri": "https://localhost:8080/"
        },
        "id": "kEHw-aIsXsIJ",
        "outputId": "ba3532ee-43aa-434f-9785-ecce035d52cf"
      },
      "source": [
        "print(get_doc_file('/content/drive/MyDrive/hydrolic project/Abhi. Hydrolic/description.txt'))"
      ],
      "execution_count": 5,
      "outputs": [
        {
          "output_type": "stream",
          "name": "stdout",
          "text": [
            "Condition monitoring of hydraulic systems\n",
            "=========================================\n",
            "\n",
            "Abtract: The data set addresses the condition assessment of a hydraulic test rig based on multi sensor data. Four fault types are superimposed with several severity grades impeding selective quantification.\n",
            "\n",
            "Source:\n",
            "Creator: ZeMA gGmbH, Eschberger Weg 46, 66121 Saarbrücken\n",
            "Contact: t.schneider@zema.de, s.klein@zema.de, m.bastuck@lmt.uni-saarland.de, info@lmt.uni-saarland.de\n",
            "\n",
            "Data Type: Multivariate, Time-Series\n",
            "Task: Classification, Regression\n",
            "Attribute Type: Categorical, Real\n",
            "Area: CS/Engineering\n",
            "Format Type: Matrix\n",
            "Does your data set contain missing values? No\n",
            "\n",
            "Number of Instances: 2205\n",
            "\n",
            "Number of Attributes: 43680 (8x60 (1 Hz) + 2x600 (10 Hz) + 7x6000 (100 Hz))\n",
            "\n",
            "Relevant Information:\n",
            "The data set was experimentally obtained with a hydraulic test rig. This test rig consists of a primary working and a secondary cooling-filtration circuit which are connected via the oil tank [1], [2]. The system cyclically repeats constant load cycles (duration 60 seconds) and measures process values such as pressures, volume flows and temperatures while the condition of four hydraulic components (cooler, valve, pump and accumulator) is quantitatively varied. \n",
            "\n",
            "Attribute Information:\n",
            "The data set contains raw process sensor data (i.e. without feature extraction) which are structured as matrices (tab-delimited) with the rows representing the cycles and the columns the data points within a cycle. The sensors involved are:\n",
            "Sensor\t\tPhysical quantity\t\tUnit\t\tSampling rate\n",
            "PS1\t\tPressure\t\t\tbar\t\t100 Hz\n",
            "PS2\t\tPressure\t\t\tbar\t\t100 Hz\n",
            "PS3\t\tPressure\t\t\tbar\t\t100 Hz\n",
            "PS4\t\tPressure\t\t\tbar\t\t100 Hz\n",
            "PS5\t\tPressure\t\t\tbar\t\t100 Hz\n",
            "PS6\t\tPressure\t\t\tbar\t\t100 Hz\n",
            "EPS1\t\tMotor power\t\t\tW\t\t100 Hz\n",
            "FS1\t\tVolume flow\t\t\tl/min\t\t10 Hz\n",
            "FS2\t\tVolume flow\t\t\tl/min\t\t10 Hz\n",
            "TS1\t\tTemperature\t\t\t°C\t\t1 Hz\n",
            "TS2\t\tTemperature\t\t\t°C\t\t1 Hz\n",
            "TS3\t\tTemperature\t\t\t°C\t\t1 Hz\n",
            "TS4\t\tTemperature\t\t\t°C\t\t1 Hz\n",
            "VS1\t\tVibration\t\t\tmm/s\t\t1 Hz\n",
            "CE\t\tCooling efficiency (virtual)\t%\t\t1 Hz\n",
            "CP\t\tCooling power (virtual)\t\tkW\t\t1 Hz\n",
            "SE\t\tEfficiency factor\t\t%\t\t1 Hz\n",
            "\n",
            "The target condition values are cycle-wise annotated in profile.txt (tab-delimited). As before, the row number represents the cycle number. The columns are\n",
            "\n",
            "1: Cooler condition / %:\n",
            "\t3: close to total failure\n",
            "\t20: reduced effifiency\n",
            "\t100: full efficiency\n",
            "\n",
            "2: Valve condition / %:\n",
            "\t100: optimal switching behavior\n",
            "\t90: small lag\n",
            "\t80: severe lag\n",
            "\t73: close to total failure\n",
            "\n",
            "3: Internal pump leakage:\n",
            "\t0: no leakage\n",
            "\t1: weak leakage\n",
            "\t2: severe leakage\n",
            "\n",
            "4: Hydraulic accumulator / bar:\n",
            "\t130: optimal pressure\n",
            "\t115: slightly reduced pressure\n",
            "\t100: severely reduced pressure\n",
            "\t90: close to total failure\n",
            "\n",
            "5: stable flag:\n",
            "\t0: conditions were stable\n",
            "\t1: static conditions might not have been reached yet\n",
            "\n",
            "Relevant Papers:\n",
            "[1] Nikolai Helwig, Eliseo Pignanelli, Andreas Schütze, Condition Monitoring of a Complex Hydraulic System Using Multivariate Statistics, in Proc. I2MTC-2015 - 2015 IEEE International Instrumentation and Measurement Technology Conference, paper PPS1-39, Pisa, Italy, May 11-14, 2015, doi: 10.1109/I2MTC.2015.7151267.\n",
            "[2] N. Helwig, A. Schütze, Detecting and compensating sensor faults in a hydraulic condition monitoring system, in Proc. SENSOR 2015 - 17th International Conference on Sensors and Measurement Technology, oral presentation D8.1, Nuremberg, Germany, May 19-21, 2015, doi: 10.5162/sensor2015/D8.1.\n",
            "[3] Tizian Schneider, Nikolai Helwig, Andreas Schütze, Automatic feature extraction and selection for classification of cyclical time series data, tm - Technisches Messen (2017), 84(3), 198206, doi: 10.1515/teme-2016-0072.\n",
            "\n",
            "Citation Requests:\n",
            "Nikolai Helwig, Eliseo Pignanelli, Andreas Schütze, Condition Monitoring of a Complex Hydraulic System Using Multivariate Statistics, in Proc. I2MTC-2015 - 2015 IEEE International Instrumentation and Measurement Technology Conference, paper PPS1-39, Pisa, Italy, May 11-14, 2015, doi: 10.1109/I2MTC.2015.7151267.\n",
            "\n"
          ]
        }
      ]
    },
    {
      "cell_type": "markdown",
      "metadata": {
        "id": "xez_awWKXyRC"
      },
      "source": [
        "#Documentation"
      ]
    },
    {
      "cell_type": "code",
      "metadata": {
        "colab": {
          "base_uri": "https://localhost:8080/"
        },
        "id": "SozgGNPrXiQU",
        "outputId": "188c3677-acb3-4c8c-8084-7902a9e6b649"
      },
      "source": [
        "print(get_doc_file('/content/drive/MyDrive/hydrolic project/Abhi. Hydrolic/documentation.txt'))"
      ],
      "execution_count": 6,
      "outputs": [
        {
          "output_type": "stream",
          "name": "stdout",
          "text": [
            "1. Title: Condition monitoring of hydraulic systems\n",
            "\n",
            "2. Source Information\n",
            "   -- Creator: Nikolai Helwig, ZeMA gGmbH, Eschberger Weg 46, 66121 Saarbrücken\n",
            "   -- Donors (with approval from creator): M. Bastuck (m.bastuck@lmt.uni-saarland.de), T. Schneider (t.schneider@zema.de)\n",
            "   -- Date: April, 2018\n",
            " \n",
            "3. Past Usage:\n",
            "   [1] Nikolai Helwig, Eliseo Pignanelli, Andreas Schütze, Condition Monitoring of a Complex Hydraulic System Using Multivariate Statistics, in Proc. I2MTC-2015 - 2015 IEEE International Instrumentation and Measurement Technology Conference, paper PPS1-39, Pisa, Italy, May 11-14, 2015. doi: 10.1109/I2MTC.2015.7151267\n",
            "      -- detailed description of data and measurement setup\n",
            "      -- automated feature extraction via Pearson correlation and comparison of several classification algorithms\n",
            "      -- Cooler and Valve states are \"easy\" targets (perfect classification achieved), Pump and especially Accumulator states are more complex targets\n",
            "\n",
            "   [2] N. Helwig, A. Schütze, Detecting and compensating sensor faults in a hydraulic condition monitoring system, in Proc. SENSOR 2015 - 17th International Conference on Sensors and Measurement Technology, oral presentation D8.1, Nuremberg, Germany, May 19-21, 2015. doi: 10.5162/sensor2015/D8.1\n",
            "      -- sensor drift and offset can be compensated by the automatic feature extraction described in [1]\n",
            "      -- faults of up to 5 sensors can be compensated for\n",
            "\n",
            "   [3] Tizian Schneider, Nikolai Helwig, Andreas Schütze, Automatic feature extraction and selection for classification of cyclical time series data, tm - Technisches Messen (2017), 84(3), 198206. doi: 10.1515/teme-2016-0072\n",
            "      -- one of several example datasets for automatic feature extraction\n",
            "      -- with ALA and RFESVM the error rate was reduced to 0.35 % (from 9.6 % in [1]) for the hydraulic accumulator state classification\n",
            "\n",
            "4. Relevant Information:\n",
            "   -- The data set was experimentally obtained with a hydraulic test rig. This test rig consists of a primary working and a secondary cooling-filtration circuit which are connected via the oil tank [1], [2]. The system cyclically repeats constant load cycles (duration 60 seconds) and measures process values such as pressures, volume flows and temperatures while the condition of four hydraulic components (cooler, valve, pump and accumulator) is quantitatively varied.\n",
            "\n",
            "5. Number of Instances: 2205\n",
            "\n",
            "6. Number of Attributes: 43680 (8x60 (1 Hz) + 2x600 (10 Hz) + 7x6000 (100 Hz))\n",
            "\n",
            "7. Attribute Information:\n",
            "   Attributes are sensor data (all numeric and continuous) from measurements taken at the same point in time, respectively, of a hydraulic test rig's working cycle.\n",
            "   The sensors were read with different sampling rates, leading to different numbers of attributes per sensor despite they were all exposed to the same working cycle.\n",
            "   \n",
            "   1. Pressure sensors (PS1-6): 100 Hz, 6000 attributes per sensor (6 sensors)\n",
            "   2. Motor power sensor (EPS1): 100 Hz, 6000 attributes per sensor (1 sensor)\n",
            "   3. Volume flow sensors (FS1/2): 10 Hz, 600 attributes per sensor (2 sensors)\n",
            "   4. Temperature sensors (TS1-4): 1 Hz, 60 attributes per sensor (4 sensors)\n",
            "   5. Vibration sensor (VS1): 1 Hz, 60 attributes per sensor (1 sensor)\n",
            "   6. Efficiency factor (SE): 1 Hz, 60 attributes per sensor (1 sensor)\n",
            "   7. Virtual cooling efficiency sensor (CE): 1 Hz, 60 attributes per sensor (1 sensor)\n",
            "   8. Virtual cooling power sensor (CP): 1 Hz, 60 attributes per sensor (1 sensor)\n",
            "\n",
            "8. Missing Attribute Values: None\n",
            "\n",
            "9. Class Distribution: there are 5 different class value vectors provided in profile.txt.\n",
            "   All but number 5 (stable flag) describe degradation processes over time and, thus, their values do not represent distinct categories, but continuous values.\n",
            "\n",
            "   1. Cooler condition / %:\n",
            "      3: close to total failure (732 instances)\n",
            "      20: reduced effifiency (732 instances)\n",
            "      100: full efficiency (741 instances)\n",
            "\n",
            "   2. Valve condition / %:\n",
            "      100: optimal switching behavior (1125 instances)\n",
            "      90: small lag (360 instances)\n",
            "      80: severe lag (360 instances)\n",
            "      73: close to total failure (360 instances)\n",
            "\n",
            "   3. Internal pump leakage:\n",
            "      0: no leakage (1221 instances)\n",
            "      1: weak leakage (492 instances)\n",
            "      2: severe leakage (492 instances)\n",
            "\n",
            "   4. Hydraulic accumulator / bar:\n",
            "      130: optimal pressure (599 instances)\n",
            "      115: slightly reduced pressure (399 instances)\n",
            "      100: severely reduced pressure (399 instances)\n",
            "      90: close to total failure (808 instances)\n",
            "\n",
            "   5. stable flag:\n",
            "      0: conditions were stable (1449 instances)\n",
            "      1: static conditions might not have been reached yet (756 instances)\n",
            "\n"
          ]
        }
      ]
    },
    {
      "cell_type": "markdown",
      "metadata": {
        "id": "vY05TBB0X7jf"
      },
      "source": [
        "# IMPORTING AND EDA"
      ]
    },
    {
      "cell_type": "markdown",
      "metadata": {
        "id": "asMwrGtzYB_f"
      },
      "source": [
        "EDA\n"
      ]
    },
    {
      "cell_type": "code",
      "metadata": {
        "id": "raKj1gc5X2Ad"
      },
      "source": [
        "def get_file(dic_path):\n",
        "  return pd.read_csv(dic_path,sep = '\\t',header = None)"
      ],
      "execution_count": 7,
      "outputs": []
    },
    {
      "cell_type": "code",
      "metadata": {
        "id": "Qp4BgIiGX6fq"
      },
      "source": [
        "FS1= get_file('/content/drive/MyDrive/hydrolic project/Abhi. Hydrolic/FS1.txt')\n",
        "PS1 = get_file('/content/drive/MyDrive/hydrolic project/Abhi. Hydrolic/PS1.txt')\n",
        "PS2 = get_file('/content/drive/MyDrive/hydrolic project/Abhi. Hydrolic/PS2.txt')\n",
        "PS3 = get_file('/content/drive/MyDrive/hydrolic project/Abhi. Hydrolic/PS3.txt')\n",
        "PS4 = get_file('/content/drive/MyDrive/hydrolic project/Abhi. Hydrolic/PS4.txt')\n",
        "PS5 = get_file('/content/drive/MyDrive/hydrolic project/Abhi. Hydrolic/PS5.txt')\n",
        "PS6 = get_file('/content/drive/MyDrive/hydrolic project/Abhi. Hydrolic/PS6.txt')\n",
        "EPS1 = get_file('/content/drive/MyDrive/hydrolic project/Abhi. Hydrolic/EPS1.txt')\n",
        "FS2 = get_file('/content/drive/MyDrive/hydrolic project/Abhi. Hydrolic/FS2.txt')\n",
        "TS1 = get_file('/content/drive/MyDrive/hydrolic project/Abhi. Hydrolic/TS1.txt')\n",
        "TS2 = get_file('/content/drive/MyDrive/hydrolic project/Abhi. Hydrolic/TS2.txt')\n",
        "TS3 = get_file('/content/drive/MyDrive/hydrolic project/Abhi. Hydrolic/TS3.txt')\n",
        "TS4 = get_file('/content/drive/MyDrive/hydrolic project/Abhi. Hydrolic/TS4.txt')\n",
        "VS1 = get_file('/content/drive/MyDrive/hydrolic project/Abhi. Hydrolic/VS1.txt')\n",
        "CE = get_file('/content/drive/MyDrive/hydrolic project/Abhi. Hydrolic/CE.txt')\n",
        "CP = get_file('/content/drive/MyDrive/hydrolic project/Abhi. Hydrolic/CP.txt')\n",
        "SE = get_file('/content/drive/MyDrive/hydrolic project/Abhi. Hydrolic/SE.txt')"
      ],
      "execution_count": 8,
      "outputs": []
    },
    {
      "cell_type": "code",
      "metadata": {
        "id": "628OZrqoYNRP"
      },
      "source": [
        "b = [PS1,PS2,PS3,PS4,PS5,PS6,EPS1,FS1,FS2,TS1,TS2,TS3,TS4,VS1,CE,CP,SE]\n",
        "for i in b:\n",
        "  i['mean'] = i.mean(axis = 1)"
      ],
      "execution_count": 9,
      "outputs": []
    },
    {
      "cell_type": "code",
      "metadata": {
        "id": "x1ImvrpaYO-L"
      },
      "source": [
        "col = ['PS1','PS2','PS3','PS4','PS5','PS6','EPS1','FS1','FS2','TS1','TS2','TS3','TS4','VS1','CE','CP','SE']\n",
        "final_data = pd.DataFrame(columns=col)"
      ],
      "execution_count": 10,
      "outputs": []
    },
    {
      "cell_type": "code",
      "metadata": {
        "id": "qdmAsPRDYQ1I"
      },
      "source": [
        "for i,j in zip(b,col):\n",
        "  new = np.round(i['mean'],3)\n",
        "  final_data[j]= new\n"
      ],
      "execution_count": 11,
      "outputs": []
    },
    {
      "cell_type": "code",
      "metadata": {
        "colab": {
          "base_uri": "https://localhost:8080/",
          "height": 424
        },
        "id": "_h-FH2cPYUI1",
        "outputId": "62ef0b89-62ef-442e-fcc3-fefe636fe491"
      },
      "source": [
        "profile = get_file('/content/drive/MyDrive/hydrolic project/Abhi. Hydrolic/profile.txt')\n",
        "profile"
      ],
      "execution_count": 12,
      "outputs": [
        {
          "output_type": "execute_result",
          "data": {
            "text/plain": [
              "        0    1  2    3  4\n",
              "0       3  100  0  130  1\n",
              "1       3  100  0  130  1\n",
              "2       3  100  0  130  1\n",
              "3       3  100  0  130  1\n",
              "4       3  100  0  130  1\n",
              "...   ...  ... ..  ... ..\n",
              "2200  100  100  0   90  0\n",
              "2201  100  100  0   90  0\n",
              "2202  100  100  0   90  0\n",
              "2203  100  100  0   90  0\n",
              "2204  100  100  0   90  0\n",
              "\n",
              "[2205 rows x 5 columns]"
            ],
            "text/html": [
              "\n",
              "  <div id=\"df-b4fc3e7e-9f87-440c-818d-3e10c67d9ae0\">\n",
              "    <div class=\"colab-df-container\">\n",
              "      <div>\n",
              "<style scoped>\n",
              "    .dataframe tbody tr th:only-of-type {\n",
              "        vertical-align: middle;\n",
              "    }\n",
              "\n",
              "    .dataframe tbody tr th {\n",
              "        vertical-align: top;\n",
              "    }\n",
              "\n",
              "    .dataframe thead th {\n",
              "        text-align: right;\n",
              "    }\n",
              "</style>\n",
              "<table border=\"1\" class=\"dataframe\">\n",
              "  <thead>\n",
              "    <tr style=\"text-align: right;\">\n",
              "      <th></th>\n",
              "      <th>0</th>\n",
              "      <th>1</th>\n",
              "      <th>2</th>\n",
              "      <th>3</th>\n",
              "      <th>4</th>\n",
              "    </tr>\n",
              "  </thead>\n",
              "  <tbody>\n",
              "    <tr>\n",
              "      <th>0</th>\n",
              "      <td>3</td>\n",
              "      <td>100</td>\n",
              "      <td>0</td>\n",
              "      <td>130</td>\n",
              "      <td>1</td>\n",
              "    </tr>\n",
              "    <tr>\n",
              "      <th>1</th>\n",
              "      <td>3</td>\n",
              "      <td>100</td>\n",
              "      <td>0</td>\n",
              "      <td>130</td>\n",
              "      <td>1</td>\n",
              "    </tr>\n",
              "    <tr>\n",
              "      <th>2</th>\n",
              "      <td>3</td>\n",
              "      <td>100</td>\n",
              "      <td>0</td>\n",
              "      <td>130</td>\n",
              "      <td>1</td>\n",
              "    </tr>\n",
              "    <tr>\n",
              "      <th>3</th>\n",
              "      <td>3</td>\n",
              "      <td>100</td>\n",
              "      <td>0</td>\n",
              "      <td>130</td>\n",
              "      <td>1</td>\n",
              "    </tr>\n",
              "    <tr>\n",
              "      <th>4</th>\n",
              "      <td>3</td>\n",
              "      <td>100</td>\n",
              "      <td>0</td>\n",
              "      <td>130</td>\n",
              "      <td>1</td>\n",
              "    </tr>\n",
              "    <tr>\n",
              "      <th>...</th>\n",
              "      <td>...</td>\n",
              "      <td>...</td>\n",
              "      <td>...</td>\n",
              "      <td>...</td>\n",
              "      <td>...</td>\n",
              "    </tr>\n",
              "    <tr>\n",
              "      <th>2200</th>\n",
              "      <td>100</td>\n",
              "      <td>100</td>\n",
              "      <td>0</td>\n",
              "      <td>90</td>\n",
              "      <td>0</td>\n",
              "    </tr>\n",
              "    <tr>\n",
              "      <th>2201</th>\n",
              "      <td>100</td>\n",
              "      <td>100</td>\n",
              "      <td>0</td>\n",
              "      <td>90</td>\n",
              "      <td>0</td>\n",
              "    </tr>\n",
              "    <tr>\n",
              "      <th>2202</th>\n",
              "      <td>100</td>\n",
              "      <td>100</td>\n",
              "      <td>0</td>\n",
              "      <td>90</td>\n",
              "      <td>0</td>\n",
              "    </tr>\n",
              "    <tr>\n",
              "      <th>2203</th>\n",
              "      <td>100</td>\n",
              "      <td>100</td>\n",
              "      <td>0</td>\n",
              "      <td>90</td>\n",
              "      <td>0</td>\n",
              "    </tr>\n",
              "    <tr>\n",
              "      <th>2204</th>\n",
              "      <td>100</td>\n",
              "      <td>100</td>\n",
              "      <td>0</td>\n",
              "      <td>90</td>\n",
              "      <td>0</td>\n",
              "    </tr>\n",
              "  </tbody>\n",
              "</table>\n",
              "<p>2205 rows × 5 columns</p>\n",
              "</div>\n",
              "      <button class=\"colab-df-convert\" onclick=\"convertToInteractive('df-b4fc3e7e-9f87-440c-818d-3e10c67d9ae0')\"\n",
              "              title=\"Convert this dataframe to an interactive table.\"\n",
              "              style=\"display:none;\">\n",
              "        \n",
              "  <svg xmlns=\"http://www.w3.org/2000/svg\" height=\"24px\"viewBox=\"0 0 24 24\"\n",
              "       width=\"24px\">\n",
              "    <path d=\"M0 0h24v24H0V0z\" fill=\"none\"/>\n",
              "    <path d=\"M18.56 5.44l.94 2.06.94-2.06 2.06-.94-2.06-.94-.94-2.06-.94 2.06-2.06.94zm-11 1L8.5 8.5l.94-2.06 2.06-.94-2.06-.94L8.5 2.5l-.94 2.06-2.06.94zm10 10l.94 2.06.94-2.06 2.06-.94-2.06-.94-.94-2.06-.94 2.06-2.06.94z\"/><path d=\"M17.41 7.96l-1.37-1.37c-.4-.4-.92-.59-1.43-.59-.52 0-1.04.2-1.43.59L10.3 9.45l-7.72 7.72c-.78.78-.78 2.05 0 2.83L4 21.41c.39.39.9.59 1.41.59.51 0 1.02-.2 1.41-.59l7.78-7.78 2.81-2.81c.8-.78.8-2.07 0-2.86zM5.41 20L4 18.59l7.72-7.72 1.47 1.35L5.41 20z\"/>\n",
              "  </svg>\n",
              "      </button>\n",
              "      \n",
              "  <style>\n",
              "    .colab-df-container {\n",
              "      display:flex;\n",
              "      flex-wrap:wrap;\n",
              "      gap: 12px;\n",
              "    }\n",
              "\n",
              "    .colab-df-convert {\n",
              "      background-color: #E8F0FE;\n",
              "      border: none;\n",
              "      border-radius: 50%;\n",
              "      cursor: pointer;\n",
              "      display: none;\n",
              "      fill: #1967D2;\n",
              "      height: 32px;\n",
              "      padding: 0 0 0 0;\n",
              "      width: 32px;\n",
              "    }\n",
              "\n",
              "    .colab-df-convert:hover {\n",
              "      background-color: #E2EBFA;\n",
              "      box-shadow: 0px 1px 2px rgba(60, 64, 67, 0.3), 0px 1px 3px 1px rgba(60, 64, 67, 0.15);\n",
              "      fill: #174EA6;\n",
              "    }\n",
              "\n",
              "    [theme=dark] .colab-df-convert {\n",
              "      background-color: #3B4455;\n",
              "      fill: #D2E3FC;\n",
              "    }\n",
              "\n",
              "    [theme=dark] .colab-df-convert:hover {\n",
              "      background-color: #434B5C;\n",
              "      box-shadow: 0px 1px 3px 1px rgba(0, 0, 0, 0.15);\n",
              "      filter: drop-shadow(0px 1px 2px rgba(0, 0, 0, 0.3));\n",
              "      fill: #FFFFFF;\n",
              "    }\n",
              "  </style>\n",
              "\n",
              "      <script>\n",
              "        const buttonEl =\n",
              "          document.querySelector('#df-b4fc3e7e-9f87-440c-818d-3e10c67d9ae0 button.colab-df-convert');\n",
              "        buttonEl.style.display =\n",
              "          google.colab.kernel.accessAllowed ? 'block' : 'none';\n",
              "\n",
              "        async function convertToInteractive(key) {\n",
              "          const element = document.querySelector('#df-b4fc3e7e-9f87-440c-818d-3e10c67d9ae0');\n",
              "          const dataTable =\n",
              "            await google.colab.kernel.invokeFunction('convertToInteractive',\n",
              "                                                     [key], {});\n",
              "          if (!dataTable) return;\n",
              "\n",
              "          const docLinkHtml = 'Like what you see? Visit the ' +\n",
              "            '<a target=\"_blank\" href=https://colab.research.google.com/notebooks/data_table.ipynb>data table notebook</a>'\n",
              "            + ' to learn more about interactive tables.';\n",
              "          element.innerHTML = '';\n",
              "          dataTable['output_type'] = 'display_data';\n",
              "          await google.colab.output.renderOutput(dataTable, element);\n",
              "          const docLink = document.createElement('div');\n",
              "          docLink.innerHTML = docLinkHtml;\n",
              "          element.appendChild(docLink);\n",
              "        }\n",
              "      </script>\n",
              "    </div>\n",
              "  </div>\n",
              "  "
            ]
          },
          "metadata": {},
          "execution_count": 12
        }
      ]
    },
    {
      "cell_type": "markdown",
      "source": [
        "## Rename dependent column "
      ],
      "metadata": {
        "id": "q4X3Mz8cHHGu"
      }
    },
    {
      "cell_type": "code",
      "metadata": {
        "id": "JY9s-otWYZUn"
      },
      "source": [
        "final_data['CC'] = profile[0]\n",
        "final_data['VC'] = profile[1]\n",
        "final_data['IPL'] = profile[2]\n",
        "final_data['HA'] = profile[3]\n",
        "final_data['SF'] = profile[4]"
      ],
      "execution_count": 13,
      "outputs": []
    },
    {
      "cell_type": "code",
      "metadata": {
        "colab": {
          "base_uri": "https://localhost:8080/",
          "height": 488
        },
        "id": "sjU_hfq1YcYX",
        "outputId": "8e44f00f-f42a-43bc-8db0-a013b54d280c"
      },
      "source": [
        "data= final_data\n",
        "data"
      ],
      "execution_count": 14,
      "outputs": [
        {
          "output_type": "execute_result",
          "data": {
            "text/plain": [
              "          PS1      PS2    PS3     PS4    PS5    PS6      EPS1    FS1     FS2  \\\n",
              "0     160.673  109.467  1.991   0.000  9.842  9.728  2538.929  6.710  10.305   \n",
              "1     160.603  109.355  1.976   0.000  9.635  9.529  2531.499  6.715  10.403   \n",
              "2     160.348  109.159  1.972   0.000  9.531  9.428  2519.928  6.719  10.366   \n",
              "3     160.188  109.065  1.947   0.000  9.439  9.337  2511.542  6.721  10.303   \n",
              "4     160.000  108.931  1.923   0.000  9.359  9.261  2503.450  6.690  10.238   \n",
              "...       ...      ...    ...     ...    ...    ...       ...    ...     ...   \n",
              "2200  161.228  109.780  2.001  10.202  9.972  9.850  2543.911  6.690  10.185   \n",
              "2201  161.206  109.787  1.999  10.198  9.966  9.845  2543.411  6.692  10.178   \n",
              "2202  161.192  109.756  1.993  10.197  9.964  9.843  2542.730  6.693  10.176   \n",
              "2203  161.209  109.794  2.007  10.199  9.968  9.847  2544.046  6.684  10.178   \n",
              "2204  161.217  109.792  2.003  10.203  9.974  9.852  2543.818  6.692  10.183   \n",
              "\n",
              "         TS1  ...     TS4    VS1      CE     CP      SE   CC   VC  IPL   HA  \\\n",
              "0     35.622  ...  31.745  0.577  39.601  1.863  59.157    3  100    0  130   \n",
              "1     36.677  ...  34.494  0.566  25.786  1.256  59.336    3  100    0  130   \n",
              "2     37.881  ...  35.646  0.577  22.218  1.113  59.543    3  100    0  130   \n",
              "3     38.879  ...  36.579  0.569  20.460  1.062  59.795    3  100    0  130   \n",
              "4     39.804  ...  37.428  0.577  19.787  1.070  59.455    3  100    0  130   \n",
              "...      ...  ...     ...    ...     ...    ...     ...  ...  ...  ...  ...   \n",
              "2200  35.314  ...  30.405  0.551  46.629  2.161  59.033  100  100    0   90   \n",
              "2201  35.322  ...  30.416  0.547  46.690  2.151  59.068  100  100    0   90   \n",
              "2202  35.319  ...  30.426  0.545  46.472  2.143  59.132  100  100    0   90   \n",
              "2203  35.325  ...  30.414  0.537  46.545  2.148  58.971  100  100    0   90   \n",
              "2204  35.322  ...  30.391  0.547  46.648  2.157  59.054  100  100    0   90   \n",
              "\n",
              "      SF  \n",
              "0      1  \n",
              "1      1  \n",
              "2      1  \n",
              "3      1  \n",
              "4      1  \n",
              "...   ..  \n",
              "2200   0  \n",
              "2201   0  \n",
              "2202   0  \n",
              "2203   0  \n",
              "2204   0  \n",
              "\n",
              "[2205 rows x 22 columns]"
            ],
            "text/html": [
              "\n",
              "  <div id=\"df-60c17a89-5ca7-4d9a-89d5-c2c1e18d46eb\">\n",
              "    <div class=\"colab-df-container\">\n",
              "      <div>\n",
              "<style scoped>\n",
              "    .dataframe tbody tr th:only-of-type {\n",
              "        vertical-align: middle;\n",
              "    }\n",
              "\n",
              "    .dataframe tbody tr th {\n",
              "        vertical-align: top;\n",
              "    }\n",
              "\n",
              "    .dataframe thead th {\n",
              "        text-align: right;\n",
              "    }\n",
              "</style>\n",
              "<table border=\"1\" class=\"dataframe\">\n",
              "  <thead>\n",
              "    <tr style=\"text-align: right;\">\n",
              "      <th></th>\n",
              "      <th>PS1</th>\n",
              "      <th>PS2</th>\n",
              "      <th>PS3</th>\n",
              "      <th>PS4</th>\n",
              "      <th>PS5</th>\n",
              "      <th>PS6</th>\n",
              "      <th>EPS1</th>\n",
              "      <th>FS1</th>\n",
              "      <th>FS2</th>\n",
              "      <th>TS1</th>\n",
              "      <th>...</th>\n",
              "      <th>TS4</th>\n",
              "      <th>VS1</th>\n",
              "      <th>CE</th>\n",
              "      <th>CP</th>\n",
              "      <th>SE</th>\n",
              "      <th>CC</th>\n",
              "      <th>VC</th>\n",
              "      <th>IPL</th>\n",
              "      <th>HA</th>\n",
              "      <th>SF</th>\n",
              "    </tr>\n",
              "  </thead>\n",
              "  <tbody>\n",
              "    <tr>\n",
              "      <th>0</th>\n",
              "      <td>160.673</td>\n",
              "      <td>109.467</td>\n",
              "      <td>1.991</td>\n",
              "      <td>0.000</td>\n",
              "      <td>9.842</td>\n",
              "      <td>9.728</td>\n",
              "      <td>2538.929</td>\n",
              "      <td>6.710</td>\n",
              "      <td>10.305</td>\n",
              "      <td>35.622</td>\n",
              "      <td>...</td>\n",
              "      <td>31.745</td>\n",
              "      <td>0.577</td>\n",
              "      <td>39.601</td>\n",
              "      <td>1.863</td>\n",
              "      <td>59.157</td>\n",
              "      <td>3</td>\n",
              "      <td>100</td>\n",
              "      <td>0</td>\n",
              "      <td>130</td>\n",
              "      <td>1</td>\n",
              "    </tr>\n",
              "    <tr>\n",
              "      <th>1</th>\n",
              "      <td>160.603</td>\n",
              "      <td>109.355</td>\n",
              "      <td>1.976</td>\n",
              "      <td>0.000</td>\n",
              "      <td>9.635</td>\n",
              "      <td>9.529</td>\n",
              "      <td>2531.499</td>\n",
              "      <td>6.715</td>\n",
              "      <td>10.403</td>\n",
              "      <td>36.677</td>\n",
              "      <td>...</td>\n",
              "      <td>34.494</td>\n",
              "      <td>0.566</td>\n",
              "      <td>25.786</td>\n",
              "      <td>1.256</td>\n",
              "      <td>59.336</td>\n",
              "      <td>3</td>\n",
              "      <td>100</td>\n",
              "      <td>0</td>\n",
              "      <td>130</td>\n",
              "      <td>1</td>\n",
              "    </tr>\n",
              "    <tr>\n",
              "      <th>2</th>\n",
              "      <td>160.348</td>\n",
              "      <td>109.159</td>\n",
              "      <td>1.972</td>\n",
              "      <td>0.000</td>\n",
              "      <td>9.531</td>\n",
              "      <td>9.428</td>\n",
              "      <td>2519.928</td>\n",
              "      <td>6.719</td>\n",
              "      <td>10.366</td>\n",
              "      <td>37.881</td>\n",
              "      <td>...</td>\n",
              "      <td>35.646</td>\n",
              "      <td>0.577</td>\n",
              "      <td>22.218</td>\n",
              "      <td>1.113</td>\n",
              "      <td>59.543</td>\n",
              "      <td>3</td>\n",
              "      <td>100</td>\n",
              "      <td>0</td>\n",
              "      <td>130</td>\n",
              "      <td>1</td>\n",
              "    </tr>\n",
              "    <tr>\n",
              "      <th>3</th>\n",
              "      <td>160.188</td>\n",
              "      <td>109.065</td>\n",
              "      <td>1.947</td>\n",
              "      <td>0.000</td>\n",
              "      <td>9.439</td>\n",
              "      <td>9.337</td>\n",
              "      <td>2511.542</td>\n",
              "      <td>6.721</td>\n",
              "      <td>10.303</td>\n",
              "      <td>38.879</td>\n",
              "      <td>...</td>\n",
              "      <td>36.579</td>\n",
              "      <td>0.569</td>\n",
              "      <td>20.460</td>\n",
              "      <td>1.062</td>\n",
              "      <td>59.795</td>\n",
              "      <td>3</td>\n",
              "      <td>100</td>\n",
              "      <td>0</td>\n",
              "      <td>130</td>\n",
              "      <td>1</td>\n",
              "    </tr>\n",
              "    <tr>\n",
              "      <th>4</th>\n",
              "      <td>160.000</td>\n",
              "      <td>108.931</td>\n",
              "      <td>1.923</td>\n",
              "      <td>0.000</td>\n",
              "      <td>9.359</td>\n",
              "      <td>9.261</td>\n",
              "      <td>2503.450</td>\n",
              "      <td>6.690</td>\n",
              "      <td>10.238</td>\n",
              "      <td>39.804</td>\n",
              "      <td>...</td>\n",
              "      <td>37.428</td>\n",
              "      <td>0.577</td>\n",
              "      <td>19.787</td>\n",
              "      <td>1.070</td>\n",
              "      <td>59.455</td>\n",
              "      <td>3</td>\n",
              "      <td>100</td>\n",
              "      <td>0</td>\n",
              "      <td>130</td>\n",
              "      <td>1</td>\n",
              "    </tr>\n",
              "    <tr>\n",
              "      <th>...</th>\n",
              "      <td>...</td>\n",
              "      <td>...</td>\n",
              "      <td>...</td>\n",
              "      <td>...</td>\n",
              "      <td>...</td>\n",
              "      <td>...</td>\n",
              "      <td>...</td>\n",
              "      <td>...</td>\n",
              "      <td>...</td>\n",
              "      <td>...</td>\n",
              "      <td>...</td>\n",
              "      <td>...</td>\n",
              "      <td>...</td>\n",
              "      <td>...</td>\n",
              "      <td>...</td>\n",
              "      <td>...</td>\n",
              "      <td>...</td>\n",
              "      <td>...</td>\n",
              "      <td>...</td>\n",
              "      <td>...</td>\n",
              "      <td>...</td>\n",
              "    </tr>\n",
              "    <tr>\n",
              "      <th>2200</th>\n",
              "      <td>161.228</td>\n",
              "      <td>109.780</td>\n",
              "      <td>2.001</td>\n",
              "      <td>10.202</td>\n",
              "      <td>9.972</td>\n",
              "      <td>9.850</td>\n",
              "      <td>2543.911</td>\n",
              "      <td>6.690</td>\n",
              "      <td>10.185</td>\n",
              "      <td>35.314</td>\n",
              "      <td>...</td>\n",
              "      <td>30.405</td>\n",
              "      <td>0.551</td>\n",
              "      <td>46.629</td>\n",
              "      <td>2.161</td>\n",
              "      <td>59.033</td>\n",
              "      <td>100</td>\n",
              "      <td>100</td>\n",
              "      <td>0</td>\n",
              "      <td>90</td>\n",
              "      <td>0</td>\n",
              "    </tr>\n",
              "    <tr>\n",
              "      <th>2201</th>\n",
              "      <td>161.206</td>\n",
              "      <td>109.787</td>\n",
              "      <td>1.999</td>\n",
              "      <td>10.198</td>\n",
              "      <td>9.966</td>\n",
              "      <td>9.845</td>\n",
              "      <td>2543.411</td>\n",
              "      <td>6.692</td>\n",
              "      <td>10.178</td>\n",
              "      <td>35.322</td>\n",
              "      <td>...</td>\n",
              "      <td>30.416</td>\n",
              "      <td>0.547</td>\n",
              "      <td>46.690</td>\n",
              "      <td>2.151</td>\n",
              "      <td>59.068</td>\n",
              "      <td>100</td>\n",
              "      <td>100</td>\n",
              "      <td>0</td>\n",
              "      <td>90</td>\n",
              "      <td>0</td>\n",
              "    </tr>\n",
              "    <tr>\n",
              "      <th>2202</th>\n",
              "      <td>161.192</td>\n",
              "      <td>109.756</td>\n",
              "      <td>1.993</td>\n",
              "      <td>10.197</td>\n",
              "      <td>9.964</td>\n",
              "      <td>9.843</td>\n",
              "      <td>2542.730</td>\n",
              "      <td>6.693</td>\n",
              "      <td>10.176</td>\n",
              "      <td>35.319</td>\n",
              "      <td>...</td>\n",
              "      <td>30.426</td>\n",
              "      <td>0.545</td>\n",
              "      <td>46.472</td>\n",
              "      <td>2.143</td>\n",
              "      <td>59.132</td>\n",
              "      <td>100</td>\n",
              "      <td>100</td>\n",
              "      <td>0</td>\n",
              "      <td>90</td>\n",
              "      <td>0</td>\n",
              "    </tr>\n",
              "    <tr>\n",
              "      <th>2203</th>\n",
              "      <td>161.209</td>\n",
              "      <td>109.794</td>\n",
              "      <td>2.007</td>\n",
              "      <td>10.199</td>\n",
              "      <td>9.968</td>\n",
              "      <td>9.847</td>\n",
              "      <td>2544.046</td>\n",
              "      <td>6.684</td>\n",
              "      <td>10.178</td>\n",
              "      <td>35.325</td>\n",
              "      <td>...</td>\n",
              "      <td>30.414</td>\n",
              "      <td>0.537</td>\n",
              "      <td>46.545</td>\n",
              "      <td>2.148</td>\n",
              "      <td>58.971</td>\n",
              "      <td>100</td>\n",
              "      <td>100</td>\n",
              "      <td>0</td>\n",
              "      <td>90</td>\n",
              "      <td>0</td>\n",
              "    </tr>\n",
              "    <tr>\n",
              "      <th>2204</th>\n",
              "      <td>161.217</td>\n",
              "      <td>109.792</td>\n",
              "      <td>2.003</td>\n",
              "      <td>10.203</td>\n",
              "      <td>9.974</td>\n",
              "      <td>9.852</td>\n",
              "      <td>2543.818</td>\n",
              "      <td>6.692</td>\n",
              "      <td>10.183</td>\n",
              "      <td>35.322</td>\n",
              "      <td>...</td>\n",
              "      <td>30.391</td>\n",
              "      <td>0.547</td>\n",
              "      <td>46.648</td>\n",
              "      <td>2.157</td>\n",
              "      <td>59.054</td>\n",
              "      <td>100</td>\n",
              "      <td>100</td>\n",
              "      <td>0</td>\n",
              "      <td>90</td>\n",
              "      <td>0</td>\n",
              "    </tr>\n",
              "  </tbody>\n",
              "</table>\n",
              "<p>2205 rows × 22 columns</p>\n",
              "</div>\n",
              "      <button class=\"colab-df-convert\" onclick=\"convertToInteractive('df-60c17a89-5ca7-4d9a-89d5-c2c1e18d46eb')\"\n",
              "              title=\"Convert this dataframe to an interactive table.\"\n",
              "              style=\"display:none;\">\n",
              "        \n",
              "  <svg xmlns=\"http://www.w3.org/2000/svg\" height=\"24px\"viewBox=\"0 0 24 24\"\n",
              "       width=\"24px\">\n",
              "    <path d=\"M0 0h24v24H0V0z\" fill=\"none\"/>\n",
              "    <path d=\"M18.56 5.44l.94 2.06.94-2.06 2.06-.94-2.06-.94-.94-2.06-.94 2.06-2.06.94zm-11 1L8.5 8.5l.94-2.06 2.06-.94-2.06-.94L8.5 2.5l-.94 2.06-2.06.94zm10 10l.94 2.06.94-2.06 2.06-.94-2.06-.94-.94-2.06-.94 2.06-2.06.94z\"/><path d=\"M17.41 7.96l-1.37-1.37c-.4-.4-.92-.59-1.43-.59-.52 0-1.04.2-1.43.59L10.3 9.45l-7.72 7.72c-.78.78-.78 2.05 0 2.83L4 21.41c.39.39.9.59 1.41.59.51 0 1.02-.2 1.41-.59l7.78-7.78 2.81-2.81c.8-.78.8-2.07 0-2.86zM5.41 20L4 18.59l7.72-7.72 1.47 1.35L5.41 20z\"/>\n",
              "  </svg>\n",
              "      </button>\n",
              "      \n",
              "  <style>\n",
              "    .colab-df-container {\n",
              "      display:flex;\n",
              "      flex-wrap:wrap;\n",
              "      gap: 12px;\n",
              "    }\n",
              "\n",
              "    .colab-df-convert {\n",
              "      background-color: #E8F0FE;\n",
              "      border: none;\n",
              "      border-radius: 50%;\n",
              "      cursor: pointer;\n",
              "      display: none;\n",
              "      fill: #1967D2;\n",
              "      height: 32px;\n",
              "      padding: 0 0 0 0;\n",
              "      width: 32px;\n",
              "    }\n",
              "\n",
              "    .colab-df-convert:hover {\n",
              "      background-color: #E2EBFA;\n",
              "      box-shadow: 0px 1px 2px rgba(60, 64, 67, 0.3), 0px 1px 3px 1px rgba(60, 64, 67, 0.15);\n",
              "      fill: #174EA6;\n",
              "    }\n",
              "\n",
              "    [theme=dark] .colab-df-convert {\n",
              "      background-color: #3B4455;\n",
              "      fill: #D2E3FC;\n",
              "    }\n",
              "\n",
              "    [theme=dark] .colab-df-convert:hover {\n",
              "      background-color: #434B5C;\n",
              "      box-shadow: 0px 1px 3px 1px rgba(0, 0, 0, 0.15);\n",
              "      filter: drop-shadow(0px 1px 2px rgba(0, 0, 0, 0.3));\n",
              "      fill: #FFFFFF;\n",
              "    }\n",
              "  </style>\n",
              "\n",
              "      <script>\n",
              "        const buttonEl =\n",
              "          document.querySelector('#df-60c17a89-5ca7-4d9a-89d5-c2c1e18d46eb button.colab-df-convert');\n",
              "        buttonEl.style.display =\n",
              "          google.colab.kernel.accessAllowed ? 'block' : 'none';\n",
              "\n",
              "        async function convertToInteractive(key) {\n",
              "          const element = document.querySelector('#df-60c17a89-5ca7-4d9a-89d5-c2c1e18d46eb');\n",
              "          const dataTable =\n",
              "            await google.colab.kernel.invokeFunction('convertToInteractive',\n",
              "                                                     [key], {});\n",
              "          if (!dataTable) return;\n",
              "\n",
              "          const docLinkHtml = 'Like what you see? Visit the ' +\n",
              "            '<a target=\"_blank\" href=https://colab.research.google.com/notebooks/data_table.ipynb>data table notebook</a>'\n",
              "            + ' to learn more about interactive tables.';\n",
              "          element.innerHTML = '';\n",
              "          dataTable['output_type'] = 'display_data';\n",
              "          await google.colab.output.renderOutput(dataTable, element);\n",
              "          const docLink = document.createElement('div');\n",
              "          docLink.innerHTML = docLinkHtml;\n",
              "          element.appendChild(docLink);\n",
              "        }\n",
              "      </script>\n",
              "    </div>\n",
              "  </div>\n",
              "  "
            ]
          },
          "metadata": {},
          "execution_count": 14
        }
      ]
    },
    {
      "cell_type": "markdown",
      "metadata": {
        "id": "UxOgKzaiYkJQ"
      },
      "source": [
        "# Export Final Dataset"
      ]
    },
    {
      "cell_type": "code",
      "metadata": {
        "id": "dNBtfevQYh8n"
      },
      "source": [
        "data.to_csv('HYDROLIC_DS')"
      ],
      "execution_count": 15,
      "outputs": []
    },
    {
      "cell_type": "markdown",
      "metadata": {
        "id": "LCjptv81ZDE_"
      },
      "source": [
        "#DATA PREPROCESSING FOR TRAINING"
      ]
    },
    {
      "cell_type": "code",
      "metadata": {
        "colab": {
          "base_uri": "https://localhost:8080/",
          "height": 488
        },
        "id": "hp_IbVNhYuYp",
        "outputId": "fbfdd768-c857-4d96-a6e5-f0c04843d21c"
      },
      "source": [
        "data = pd.read_csv('/content/drive/MyDrive/hydrolic project/HYDROLIC_DS').iloc[:,1:]\n",
        "data"
      ],
      "execution_count": 16,
      "outputs": [
        {
          "output_type": "execute_result",
          "data": {
            "text/plain": [
              "          PS1      PS2    PS3     PS4    PS5    PS6      EPS1    FS1     FS2  \\\n",
              "0     160.673  109.467  1.991   0.000  9.842  9.728  2538.929  6.710  10.305   \n",
              "1     160.603  109.355  1.976   0.000  9.635  9.529  2531.499  6.715  10.403   \n",
              "2     160.348  109.159  1.972   0.000  9.531  9.428  2519.928  6.719  10.366   \n",
              "3     160.188  109.065  1.947   0.000  9.439  9.337  2511.542  6.721  10.303   \n",
              "4     160.000  108.931  1.923   0.000  9.359  9.261  2503.450  6.690  10.238   \n",
              "...       ...      ...    ...     ...    ...    ...       ...    ...     ...   \n",
              "2200  161.228  109.780  2.001  10.202  9.972  9.850  2543.911  6.690  10.185   \n",
              "2201  161.206  109.787  1.999  10.198  9.966  9.845  2543.411  6.692  10.178   \n",
              "2202  161.192  109.756  1.993  10.197  9.964  9.843  2542.730  6.693  10.176   \n",
              "2203  161.209  109.794  2.007  10.199  9.968  9.847  2544.046  6.684  10.178   \n",
              "2204  161.217  109.792  2.003  10.203  9.974  9.852  2543.818  6.692  10.183   \n",
              "\n",
              "         TS1  ...     TS4    VS1      CE     CP      SE   CC   VC  IPL   HA  \\\n",
              "0     35.622  ...  31.745  0.577  39.601  1.863  59.157    3  100    0  130   \n",
              "1     36.677  ...  34.494  0.566  25.786  1.256  59.336    3  100    0  130   \n",
              "2     37.881  ...  35.646  0.577  22.218  1.113  59.543    3  100    0  130   \n",
              "3     38.879  ...  36.579  0.569  20.460  1.062  59.795    3  100    0  130   \n",
              "4     39.804  ...  37.428  0.577  19.787  1.070  59.455    3  100    0  130   \n",
              "...      ...  ...     ...    ...     ...    ...     ...  ...  ...  ...  ...   \n",
              "2200  35.314  ...  30.405  0.551  46.629  2.161  59.033  100  100    0   90   \n",
              "2201  35.322  ...  30.416  0.547  46.690  2.151  59.068  100  100    0   90   \n",
              "2202  35.319  ...  30.426  0.545  46.472  2.143  59.132  100  100    0   90   \n",
              "2203  35.325  ...  30.414  0.537  46.545  2.148  58.971  100  100    0   90   \n",
              "2204  35.322  ...  30.391  0.547  46.648  2.157  59.054  100  100    0   90   \n",
              "\n",
              "      SF  \n",
              "0      1  \n",
              "1      1  \n",
              "2      1  \n",
              "3      1  \n",
              "4      1  \n",
              "...   ..  \n",
              "2200   0  \n",
              "2201   0  \n",
              "2202   0  \n",
              "2203   0  \n",
              "2204   0  \n",
              "\n",
              "[2205 rows x 22 columns]"
            ],
            "text/html": [
              "\n",
              "  <div id=\"df-94a67e66-8e35-4676-8420-a419a532ccff\">\n",
              "    <div class=\"colab-df-container\">\n",
              "      <div>\n",
              "<style scoped>\n",
              "    .dataframe tbody tr th:only-of-type {\n",
              "        vertical-align: middle;\n",
              "    }\n",
              "\n",
              "    .dataframe tbody tr th {\n",
              "        vertical-align: top;\n",
              "    }\n",
              "\n",
              "    .dataframe thead th {\n",
              "        text-align: right;\n",
              "    }\n",
              "</style>\n",
              "<table border=\"1\" class=\"dataframe\">\n",
              "  <thead>\n",
              "    <tr style=\"text-align: right;\">\n",
              "      <th></th>\n",
              "      <th>PS1</th>\n",
              "      <th>PS2</th>\n",
              "      <th>PS3</th>\n",
              "      <th>PS4</th>\n",
              "      <th>PS5</th>\n",
              "      <th>PS6</th>\n",
              "      <th>EPS1</th>\n",
              "      <th>FS1</th>\n",
              "      <th>FS2</th>\n",
              "      <th>TS1</th>\n",
              "      <th>...</th>\n",
              "      <th>TS4</th>\n",
              "      <th>VS1</th>\n",
              "      <th>CE</th>\n",
              "      <th>CP</th>\n",
              "      <th>SE</th>\n",
              "      <th>CC</th>\n",
              "      <th>VC</th>\n",
              "      <th>IPL</th>\n",
              "      <th>HA</th>\n",
              "      <th>SF</th>\n",
              "    </tr>\n",
              "  </thead>\n",
              "  <tbody>\n",
              "    <tr>\n",
              "      <th>0</th>\n",
              "      <td>160.673</td>\n",
              "      <td>109.467</td>\n",
              "      <td>1.991</td>\n",
              "      <td>0.000</td>\n",
              "      <td>9.842</td>\n",
              "      <td>9.728</td>\n",
              "      <td>2538.929</td>\n",
              "      <td>6.710</td>\n",
              "      <td>10.305</td>\n",
              "      <td>35.622</td>\n",
              "      <td>...</td>\n",
              "      <td>31.745</td>\n",
              "      <td>0.577</td>\n",
              "      <td>39.601</td>\n",
              "      <td>1.863</td>\n",
              "      <td>59.157</td>\n",
              "      <td>3</td>\n",
              "      <td>100</td>\n",
              "      <td>0</td>\n",
              "      <td>130</td>\n",
              "      <td>1</td>\n",
              "    </tr>\n",
              "    <tr>\n",
              "      <th>1</th>\n",
              "      <td>160.603</td>\n",
              "      <td>109.355</td>\n",
              "      <td>1.976</td>\n",
              "      <td>0.000</td>\n",
              "      <td>9.635</td>\n",
              "      <td>9.529</td>\n",
              "      <td>2531.499</td>\n",
              "      <td>6.715</td>\n",
              "      <td>10.403</td>\n",
              "      <td>36.677</td>\n",
              "      <td>...</td>\n",
              "      <td>34.494</td>\n",
              "      <td>0.566</td>\n",
              "      <td>25.786</td>\n",
              "      <td>1.256</td>\n",
              "      <td>59.336</td>\n",
              "      <td>3</td>\n",
              "      <td>100</td>\n",
              "      <td>0</td>\n",
              "      <td>130</td>\n",
              "      <td>1</td>\n",
              "    </tr>\n",
              "    <tr>\n",
              "      <th>2</th>\n",
              "      <td>160.348</td>\n",
              "      <td>109.159</td>\n",
              "      <td>1.972</td>\n",
              "      <td>0.000</td>\n",
              "      <td>9.531</td>\n",
              "      <td>9.428</td>\n",
              "      <td>2519.928</td>\n",
              "      <td>6.719</td>\n",
              "      <td>10.366</td>\n",
              "      <td>37.881</td>\n",
              "      <td>...</td>\n",
              "      <td>35.646</td>\n",
              "      <td>0.577</td>\n",
              "      <td>22.218</td>\n",
              "      <td>1.113</td>\n",
              "      <td>59.543</td>\n",
              "      <td>3</td>\n",
              "      <td>100</td>\n",
              "      <td>0</td>\n",
              "      <td>130</td>\n",
              "      <td>1</td>\n",
              "    </tr>\n",
              "    <tr>\n",
              "      <th>3</th>\n",
              "      <td>160.188</td>\n",
              "      <td>109.065</td>\n",
              "      <td>1.947</td>\n",
              "      <td>0.000</td>\n",
              "      <td>9.439</td>\n",
              "      <td>9.337</td>\n",
              "      <td>2511.542</td>\n",
              "      <td>6.721</td>\n",
              "      <td>10.303</td>\n",
              "      <td>38.879</td>\n",
              "      <td>...</td>\n",
              "      <td>36.579</td>\n",
              "      <td>0.569</td>\n",
              "      <td>20.460</td>\n",
              "      <td>1.062</td>\n",
              "      <td>59.795</td>\n",
              "      <td>3</td>\n",
              "      <td>100</td>\n",
              "      <td>0</td>\n",
              "      <td>130</td>\n",
              "      <td>1</td>\n",
              "    </tr>\n",
              "    <tr>\n",
              "      <th>4</th>\n",
              "      <td>160.000</td>\n",
              "      <td>108.931</td>\n",
              "      <td>1.923</td>\n",
              "      <td>0.000</td>\n",
              "      <td>9.359</td>\n",
              "      <td>9.261</td>\n",
              "      <td>2503.450</td>\n",
              "      <td>6.690</td>\n",
              "      <td>10.238</td>\n",
              "      <td>39.804</td>\n",
              "      <td>...</td>\n",
              "      <td>37.428</td>\n",
              "      <td>0.577</td>\n",
              "      <td>19.787</td>\n",
              "      <td>1.070</td>\n",
              "      <td>59.455</td>\n",
              "      <td>3</td>\n",
              "      <td>100</td>\n",
              "      <td>0</td>\n",
              "      <td>130</td>\n",
              "      <td>1</td>\n",
              "    </tr>\n",
              "    <tr>\n",
              "      <th>...</th>\n",
              "      <td>...</td>\n",
              "      <td>...</td>\n",
              "      <td>...</td>\n",
              "      <td>...</td>\n",
              "      <td>...</td>\n",
              "      <td>...</td>\n",
              "      <td>...</td>\n",
              "      <td>...</td>\n",
              "      <td>...</td>\n",
              "      <td>...</td>\n",
              "      <td>...</td>\n",
              "      <td>...</td>\n",
              "      <td>...</td>\n",
              "      <td>...</td>\n",
              "      <td>...</td>\n",
              "      <td>...</td>\n",
              "      <td>...</td>\n",
              "      <td>...</td>\n",
              "      <td>...</td>\n",
              "      <td>...</td>\n",
              "      <td>...</td>\n",
              "    </tr>\n",
              "    <tr>\n",
              "      <th>2200</th>\n",
              "      <td>161.228</td>\n",
              "      <td>109.780</td>\n",
              "      <td>2.001</td>\n",
              "      <td>10.202</td>\n",
              "      <td>9.972</td>\n",
              "      <td>9.850</td>\n",
              "      <td>2543.911</td>\n",
              "      <td>6.690</td>\n",
              "      <td>10.185</td>\n",
              "      <td>35.314</td>\n",
              "      <td>...</td>\n",
              "      <td>30.405</td>\n",
              "      <td>0.551</td>\n",
              "      <td>46.629</td>\n",
              "      <td>2.161</td>\n",
              "      <td>59.033</td>\n",
              "      <td>100</td>\n",
              "      <td>100</td>\n",
              "      <td>0</td>\n",
              "      <td>90</td>\n",
              "      <td>0</td>\n",
              "    </tr>\n",
              "    <tr>\n",
              "      <th>2201</th>\n",
              "      <td>161.206</td>\n",
              "      <td>109.787</td>\n",
              "      <td>1.999</td>\n",
              "      <td>10.198</td>\n",
              "      <td>9.966</td>\n",
              "      <td>9.845</td>\n",
              "      <td>2543.411</td>\n",
              "      <td>6.692</td>\n",
              "      <td>10.178</td>\n",
              "      <td>35.322</td>\n",
              "      <td>...</td>\n",
              "      <td>30.416</td>\n",
              "      <td>0.547</td>\n",
              "      <td>46.690</td>\n",
              "      <td>2.151</td>\n",
              "      <td>59.068</td>\n",
              "      <td>100</td>\n",
              "      <td>100</td>\n",
              "      <td>0</td>\n",
              "      <td>90</td>\n",
              "      <td>0</td>\n",
              "    </tr>\n",
              "    <tr>\n",
              "      <th>2202</th>\n",
              "      <td>161.192</td>\n",
              "      <td>109.756</td>\n",
              "      <td>1.993</td>\n",
              "      <td>10.197</td>\n",
              "      <td>9.964</td>\n",
              "      <td>9.843</td>\n",
              "      <td>2542.730</td>\n",
              "      <td>6.693</td>\n",
              "      <td>10.176</td>\n",
              "      <td>35.319</td>\n",
              "      <td>...</td>\n",
              "      <td>30.426</td>\n",
              "      <td>0.545</td>\n",
              "      <td>46.472</td>\n",
              "      <td>2.143</td>\n",
              "      <td>59.132</td>\n",
              "      <td>100</td>\n",
              "      <td>100</td>\n",
              "      <td>0</td>\n",
              "      <td>90</td>\n",
              "      <td>0</td>\n",
              "    </tr>\n",
              "    <tr>\n",
              "      <th>2203</th>\n",
              "      <td>161.209</td>\n",
              "      <td>109.794</td>\n",
              "      <td>2.007</td>\n",
              "      <td>10.199</td>\n",
              "      <td>9.968</td>\n",
              "      <td>9.847</td>\n",
              "      <td>2544.046</td>\n",
              "      <td>6.684</td>\n",
              "      <td>10.178</td>\n",
              "      <td>35.325</td>\n",
              "      <td>...</td>\n",
              "      <td>30.414</td>\n",
              "      <td>0.537</td>\n",
              "      <td>46.545</td>\n",
              "      <td>2.148</td>\n",
              "      <td>58.971</td>\n",
              "      <td>100</td>\n",
              "      <td>100</td>\n",
              "      <td>0</td>\n",
              "      <td>90</td>\n",
              "      <td>0</td>\n",
              "    </tr>\n",
              "    <tr>\n",
              "      <th>2204</th>\n",
              "      <td>161.217</td>\n",
              "      <td>109.792</td>\n",
              "      <td>2.003</td>\n",
              "      <td>10.203</td>\n",
              "      <td>9.974</td>\n",
              "      <td>9.852</td>\n",
              "      <td>2543.818</td>\n",
              "      <td>6.692</td>\n",
              "      <td>10.183</td>\n",
              "      <td>35.322</td>\n",
              "      <td>...</td>\n",
              "      <td>30.391</td>\n",
              "      <td>0.547</td>\n",
              "      <td>46.648</td>\n",
              "      <td>2.157</td>\n",
              "      <td>59.054</td>\n",
              "      <td>100</td>\n",
              "      <td>100</td>\n",
              "      <td>0</td>\n",
              "      <td>90</td>\n",
              "      <td>0</td>\n",
              "    </tr>\n",
              "  </tbody>\n",
              "</table>\n",
              "<p>2205 rows × 22 columns</p>\n",
              "</div>\n",
              "      <button class=\"colab-df-convert\" onclick=\"convertToInteractive('df-94a67e66-8e35-4676-8420-a419a532ccff')\"\n",
              "              title=\"Convert this dataframe to an interactive table.\"\n",
              "              style=\"display:none;\">\n",
              "        \n",
              "  <svg xmlns=\"http://www.w3.org/2000/svg\" height=\"24px\"viewBox=\"0 0 24 24\"\n",
              "       width=\"24px\">\n",
              "    <path d=\"M0 0h24v24H0V0z\" fill=\"none\"/>\n",
              "    <path d=\"M18.56 5.44l.94 2.06.94-2.06 2.06-.94-2.06-.94-.94-2.06-.94 2.06-2.06.94zm-11 1L8.5 8.5l.94-2.06 2.06-.94-2.06-.94L8.5 2.5l-.94 2.06-2.06.94zm10 10l.94 2.06.94-2.06 2.06-.94-2.06-.94-.94-2.06-.94 2.06-2.06.94z\"/><path d=\"M17.41 7.96l-1.37-1.37c-.4-.4-.92-.59-1.43-.59-.52 0-1.04.2-1.43.59L10.3 9.45l-7.72 7.72c-.78.78-.78 2.05 0 2.83L4 21.41c.39.39.9.59 1.41.59.51 0 1.02-.2 1.41-.59l7.78-7.78 2.81-2.81c.8-.78.8-2.07 0-2.86zM5.41 20L4 18.59l7.72-7.72 1.47 1.35L5.41 20z\"/>\n",
              "  </svg>\n",
              "      </button>\n",
              "      \n",
              "  <style>\n",
              "    .colab-df-container {\n",
              "      display:flex;\n",
              "      flex-wrap:wrap;\n",
              "      gap: 12px;\n",
              "    }\n",
              "\n",
              "    .colab-df-convert {\n",
              "      background-color: #E8F0FE;\n",
              "      border: none;\n",
              "      border-radius: 50%;\n",
              "      cursor: pointer;\n",
              "      display: none;\n",
              "      fill: #1967D2;\n",
              "      height: 32px;\n",
              "      padding: 0 0 0 0;\n",
              "      width: 32px;\n",
              "    }\n",
              "\n",
              "    .colab-df-convert:hover {\n",
              "      background-color: #E2EBFA;\n",
              "      box-shadow: 0px 1px 2px rgba(60, 64, 67, 0.3), 0px 1px 3px 1px rgba(60, 64, 67, 0.15);\n",
              "      fill: #174EA6;\n",
              "    }\n",
              "\n",
              "    [theme=dark] .colab-df-convert {\n",
              "      background-color: #3B4455;\n",
              "      fill: #D2E3FC;\n",
              "    }\n",
              "\n",
              "    [theme=dark] .colab-df-convert:hover {\n",
              "      background-color: #434B5C;\n",
              "      box-shadow: 0px 1px 3px 1px rgba(0, 0, 0, 0.15);\n",
              "      filter: drop-shadow(0px 1px 2px rgba(0, 0, 0, 0.3));\n",
              "      fill: #FFFFFF;\n",
              "    }\n",
              "  </style>\n",
              "\n",
              "      <script>\n",
              "        const buttonEl =\n",
              "          document.querySelector('#df-94a67e66-8e35-4676-8420-a419a532ccff button.colab-df-convert');\n",
              "        buttonEl.style.display =\n",
              "          google.colab.kernel.accessAllowed ? 'block' : 'none';\n",
              "\n",
              "        async function convertToInteractive(key) {\n",
              "          const element = document.querySelector('#df-94a67e66-8e35-4676-8420-a419a532ccff');\n",
              "          const dataTable =\n",
              "            await google.colab.kernel.invokeFunction('convertToInteractive',\n",
              "                                                     [key], {});\n",
              "          if (!dataTable) return;\n",
              "\n",
              "          const docLinkHtml = 'Like what you see? Visit the ' +\n",
              "            '<a target=\"_blank\" href=https://colab.research.google.com/notebooks/data_table.ipynb>data table notebook</a>'\n",
              "            + ' to learn more about interactive tables.';\n",
              "          element.innerHTML = '';\n",
              "          dataTable['output_type'] = 'display_data';\n",
              "          await google.colab.output.renderOutput(dataTable, element);\n",
              "          const docLink = document.createElement('div');\n",
              "          docLink.innerHTML = docLinkHtml;\n",
              "          element.appendChild(docLink);\n",
              "        }\n",
              "      </script>\n",
              "    </div>\n",
              "  </div>\n",
              "  "
            ]
          },
          "metadata": {},
          "execution_count": 16
        }
      ]
    },
    {
      "cell_type": "code",
      "metadata": {
        "colab": {
          "base_uri": "https://localhost:8080/",
          "height": 582
        },
        "id": "9EU-s3SKZUgW",
        "outputId": "74ee3a51-13b1-40f0-8472-45ca0679db3c"
      },
      "source": [
        "data.hist(bins = 50,figsize = (25,15));"
      ],
      "execution_count": 17,
      "outputs": [
        {
          "output_type": "display_data",
          "data": {
            "text/plain": [
              "<Figure size 1800x1080 with 25 Axes>"
            ],
            "image/png": "[encoded data removed]"
          },
          "metadata": {
            "needs_background": "light"
          }
        }
      ]
    },
    {
      "cell_type": "markdown",
      "metadata": {
        "id": "txzcNXAQZp5b"
      },
      "source": [
        "# DEPENDENT VARIABLE CC"
      ]
    },
    {
      "cell_type": "code",
      "metadata": {
        "id": "0RF5Oq1YZuXf"
      },
      "source": [
        "X = data.iloc[:,:17].values\n",
        "y = data.iloc[:,-5].values"
      ],
      "execution_count": 18,
      "outputs": []
    },
    {
      "cell_type": "code",
      "metadata": {
        "id": "PBbRDz0aZwUC"
      },
      "source": [
        "from sklearn.model_selection import train_test_split\n",
        "X_train,X_test,y_train,y_test = train_test_split(X,y,test_size =0.2,random_state = 10)"
      ],
      "execution_count": 19,
      "outputs": []
    },
    {
      "cell_type": "markdown",
      "metadata": {
        "id": "PpTOwYWVbLXZ"
      },
      "source": [
        "### Logistic Regressor"
      ]
    },
    {
      "cell_type": "code",
      "metadata": {
        "id": "4uU4pfAxanKr"
      },
      "source": [
        "from sklearn.pipeline import Pipeline\n",
        "from sklearn.preprocessing import StandardScaler  #-3 to 3\n",
        "from sklearn.linear_model import LogisticRegression\n",
        "\n",
        "pipeline_lr = Pipeline([('Scaleing',StandardScaler()),\n",
        "                        ('lr_classifier',LogisticRegression(random_state =0))])"
      ],
      "execution_count": 20,
      "outputs": []
    },
    {
      "cell_type": "code",
      "metadata": {
        "colab": {
          "base_uri": "https://localhost:8080/"
        },
        "id": "OGfG61h1anGm",
        "outputId": "a965660d-99ed-4521-da5f-e8acb043df54"
      },
      "source": [
        "pipeline_lr.fit(X_train,y_train)"
      ],
      "execution_count": null,
      "outputs": [
        {
          "output_type": "execute_result",
          "data": {
            "text/plain": [
              "Pipeline(steps=[('Scaleing', StandardScaler()),\n",
              "                ('lr_classifier', LogisticRegression(random_state=0))])"
            ]
          },
          "metadata": {},
          "execution_count": 19
        }
      ]
    },
    {
      "cell_type": "code",
      "metadata": {
        "id": "ccpoD5I0anCH",
        "colab": {
          "base_uri": "https://localhost:8080/"
        },
        "outputId": "bf1ddad3-1395-47c3-8b92-6a8fafac8d20"
      },
      "source": [
        "y_pred = pipeline_lr.predict(X_test)\n",
        "print(np.concatenate((y_pred.reshape(len(y_pred),1),y_test.reshape(len(y_test),1)),1))"
      ],
      "execution_count": null,
      "outputs": [
        {
          "output_type": "stream",
          "name": "stdout",
          "text": [
            "[[ 20  20]\n",
            " [ 20  20]\n",
            " [100 100]\n",
            " [100 100]\n",
            " [ 20  20]\n",
            " [ 20  20]\n",
            " [ 20  20]\n",
            " [  3   3]\n",
            " [ 20  20]\n",
            " [ 20  20]\n",
            " [  3   3]\n",
            " [  3   3]\n",
            " [  3   3]\n",
            " [  3   3]\n",
            " [ 20  20]\n",
            " [100 100]\n",
            " [ 20  20]\n",
            " [  3   3]\n",
            " [100 100]\n",
            " [100 100]\n",
            " [ 20  20]\n",
            " [  3   3]\n",
            " [  3   3]\n",
            " [ 20  20]\n",
            " [ 20  20]\n",
            " [ 20  20]\n",
            " [100 100]\n",
            " [100 100]\n",
            " [100 100]\n",
            " [  3   3]\n",
            " [  3   3]\n",
            " [ 20  20]\n",
            " [ 20  20]\n",
            " [  3   3]\n",
            " [ 20  20]\n",
            " [ 20  20]\n",
            " [100 100]\n",
            " [ 20  20]\n",
            " [100 100]\n",
            " [ 20  20]\n",
            " [100 100]\n",
            " [ 20  20]\n",
            " [ 20  20]\n",
            " [  3  20]\n",
            " [ 20  20]\n",
            " [ 20  20]\n",
            " [  3   3]\n",
            " [100 100]\n",
            " [  3   3]\n",
            " [  3   3]\n",
            " [100 100]\n",
            " [  3   3]\n",
            " [ 20  20]\n",
            " [100 100]\n",
            " [ 20  20]\n",
            " [100 100]\n",
            " [100 100]\n",
            " [ 20  20]\n",
            " [  3   3]\n",
            " [100 100]\n",
            " [ 20  20]\n",
            " [ 20  20]\n",
            " [  3   3]\n",
            " [ 20  20]\n",
            " [100 100]\n",
            " [100 100]\n",
            " [100 100]\n",
            " [  3   3]\n",
            " [ 20  20]\n",
            " [ 20  20]\n",
            " [ 20  20]\n",
            " [100 100]\n",
            " [100 100]\n",
            " [ 20  20]\n",
            " [ 20  20]\n",
            " [100 100]\n",
            " [100 100]\n",
            " [100 100]\n",
            " [  3   3]\n",
            " [  3   3]\n",
            " [  3   3]\n",
            " [  3   3]\n",
            " [ 20  20]\n",
            " [100 100]\n",
            " [ 20  20]\n",
            " [100 100]\n",
            " [  3   3]\n",
            " [  3   3]\n",
            " [ 20  20]\n",
            " [  3   3]\n",
            " [100 100]\n",
            " [  3   3]\n",
            " [100 100]\n",
            " [  3   3]\n",
            " [100 100]\n",
            " [ 20  20]\n",
            " [ 20  20]\n",
            " [  3   3]\n",
            " [  3   3]\n",
            " [100 100]\n",
            " [ 20  20]\n",
            " [  3   3]\n",
            " [ 20  20]\n",
            " [100 100]\n",
            " [100 100]\n",
            " [100 100]\n",
            " [  3   3]\n",
            " [  3   3]\n",
            " [ 20  20]\n",
            " [100 100]\n",
            " [100 100]\n",
            " [  3   3]\n",
            " [ 20  20]\n",
            " [100 100]\n",
            " [ 20  20]\n",
            " [  3   3]\n",
            " [  3   3]\n",
            " [  3   3]\n",
            " [100 100]\n",
            " [  3   3]\n",
            " [  3   3]\n",
            " [ 20  20]\n",
            " [ 20  20]\n",
            " [100 100]\n",
            " [  3   3]\n",
            " [  3   3]\n",
            " [100 100]\n",
            " [  3   3]\n",
            " [100 100]\n",
            " [  3   3]\n",
            " [  3   3]\n",
            " [100 100]\n",
            " [100 100]\n",
            " [ 20  20]\n",
            " [100 100]\n",
            " [  3   3]\n",
            " [100 100]\n",
            " [ 20  20]\n",
            " [100 100]\n",
            " [ 20  20]\n",
            " [100 100]\n",
            " [  3   3]\n",
            " [100 100]\n",
            " [ 20  20]\n",
            " [  3   3]\n",
            " [  3   3]\n",
            " [ 20  20]\n",
            " [ 20  20]\n",
            " [100 100]\n",
            " [  3   3]\n",
            " [  3   3]\n",
            " [ 20  20]\n",
            " [100 100]\n",
            " [  3   3]\n",
            " [  3   3]\n",
            " [100 100]\n",
            " [  3   3]\n",
            " [ 20  20]\n",
            " [ 20  20]\n",
            " [ 20  20]\n",
            " [  3   3]\n",
            " [100 100]\n",
            " [100 100]\n",
            " [  3   3]\n",
            " [  3   3]\n",
            " [100 100]\n",
            " [  3   3]\n",
            " [  3   3]\n",
            " [100 100]\n",
            " [  3   3]\n",
            " [  3   3]\n",
            " [ 20  20]\n",
            " [100 100]\n",
            " [  3   3]\n",
            " [100 100]\n",
            " [100 100]\n",
            " [ 20  20]\n",
            " [  3   3]\n",
            " [100 100]\n",
            " [ 20  20]\n",
            " [100 100]\n",
            " [ 20  20]\n",
            " [100 100]\n",
            " [ 20  20]\n",
            " [ 20  20]\n",
            " [ 20  20]\n",
            " [100 100]\n",
            " [  3   3]\n",
            " [ 20  20]\n",
            " [100 100]\n",
            " [  3   3]\n",
            " [100 100]\n",
            " [ 20  20]\n",
            " [ 20  20]\n",
            " [  3   3]\n",
            " [100 100]\n",
            " [  3   3]\n",
            " [ 20  20]\n",
            " [  3   3]\n",
            " [  3   3]\n",
            " [100 100]\n",
            " [100 100]\n",
            " [  3   3]\n",
            " [100 100]\n",
            " [100 100]\n",
            " [100 100]\n",
            " [ 20  20]\n",
            " [  3   3]\n",
            " [100 100]\n",
            " [ 20  20]\n",
            " [ 20  20]\n",
            " [  3   3]\n",
            " [100 100]\n",
            " [100 100]\n",
            " [  3   3]\n",
            " [  3   3]\n",
            " [100 100]\n",
            " [ 20  20]\n",
            " [100 100]\n",
            " [100 100]\n",
            " [  3   3]\n",
            " [  3   3]\n",
            " [  3   3]\n",
            " [  3   3]\n",
            " [  3   3]\n",
            " [ 20  20]\n",
            " [100 100]\n",
            " [ 20  20]\n",
            " [ 20  20]\n",
            " [ 20  20]\n",
            " [100 100]\n",
            " [ 20  20]\n",
            " [100 100]\n",
            " [  3   3]\n",
            " [ 20  20]\n",
            " [  3   3]\n",
            " [  3   3]\n",
            " [ 20  20]\n",
            " [  3   3]\n",
            " [  3   3]\n",
            " [  3   3]\n",
            " [ 20  20]\n",
            " [  3   3]\n",
            " [  3   3]\n",
            " [  3   3]\n",
            " [  3   3]\n",
            " [ 20  20]\n",
            " [  3   3]\n",
            " [ 20  20]\n",
            " [100 100]\n",
            " [100 100]\n",
            " [ 20  20]\n",
            " [ 20  20]\n",
            " [ 20  20]\n",
            " [ 20  20]\n",
            " [100 100]\n",
            " [ 20  20]\n",
            " [ 20  20]\n",
            " [ 20  20]\n",
            " [ 20  20]\n",
            " [  3   3]\n",
            " [100 100]\n",
            " [  3   3]\n",
            " [ 20  20]\n",
            " [  3   3]\n",
            " [  3   3]\n",
            " [100 100]\n",
            " [100 100]\n",
            " [ 20  20]\n",
            " [100 100]\n",
            " [ 20  20]\n",
            " [ 20  20]\n",
            " [  3   3]\n",
            " [100 100]\n",
            " [100 100]\n",
            " [  3   3]\n",
            " [100 100]\n",
            " [ 20  20]\n",
            " [  3   3]\n",
            " [100 100]\n",
            " [ 20  20]\n",
            " [  3   3]\n",
            " [100 100]\n",
            " [  3   3]\n",
            " [ 20  20]\n",
            " [ 20  20]\n",
            " [100 100]\n",
            " [100 100]\n",
            " [  3   3]\n",
            " [  3   3]\n",
            " [100 100]\n",
            " [100 100]\n",
            " [  3   3]\n",
            " [  3   3]\n",
            " [  3   3]\n",
            " [ 20  20]\n",
            " [  3   3]\n",
            " [  3   3]\n",
            " [ 20  20]\n",
            " [ 20  20]\n",
            " [ 20  20]\n",
            " [ 20  20]\n",
            " [  3   3]\n",
            " [ 20  20]\n",
            " [ 20  20]\n",
            " [  3   3]\n",
            " [  3   3]\n",
            " [  3   3]\n",
            " [ 20  20]\n",
            " [100 100]\n",
            " [ 20  20]\n",
            " [100 100]\n",
            " [100 100]\n",
            " [100 100]\n",
            " [ 20  20]\n",
            " [  3   3]\n",
            " [  3   3]\n",
            " [ 20  20]\n",
            " [100 100]\n",
            " [ 20  20]\n",
            " [  3   3]\n",
            " [ 20  20]\n",
            " [100 100]\n",
            " [  3   3]\n",
            " [ 20  20]\n",
            " [100 100]\n",
            " [100 100]\n",
            " [100 100]\n",
            " [100 100]\n",
            " [ 20  20]\n",
            " [ 20  20]\n",
            " [100 100]\n",
            " [  3   3]\n",
            " [100 100]\n",
            " [100 100]\n",
            " [ 20  20]\n",
            " [ 20  20]\n",
            " [ 20  20]\n",
            " [ 20  20]\n",
            " [ 20  20]\n",
            " [100 100]\n",
            " [ 20  20]\n",
            " [ 20  20]\n",
            " [100 100]\n",
            " [ 20  20]\n",
            " [  3   3]\n",
            " [ 20  20]\n",
            " [100 100]\n",
            " [  3   3]\n",
            " [100 100]\n",
            " [100 100]\n",
            " [  3   3]\n",
            " [100 100]\n",
            " [100 100]\n",
            " [ 20  20]\n",
            " [  3   3]\n",
            " [  3   3]\n",
            " [100 100]\n",
            " [100 100]\n",
            " [ 20  20]\n",
            " [  3   3]\n",
            " [100 100]\n",
            " [ 20  20]\n",
            " [100 100]\n",
            " [100 100]\n",
            " [100 100]\n",
            " [100 100]\n",
            " [  3   3]\n",
            " [100 100]\n",
            " [100 100]\n",
            " [100 100]\n",
            " [ 20  20]\n",
            " [  3   3]\n",
            " [100 100]\n",
            " [100 100]\n",
            " [ 20  20]\n",
            " [  3   3]\n",
            " [  3   3]\n",
            " [ 20  20]\n",
            " [100 100]\n",
            " [ 20  20]\n",
            " [100 100]\n",
            " [ 20  20]\n",
            " [ 20  20]\n",
            " [100 100]\n",
            " [100 100]\n",
            " [100 100]\n",
            " [  3   3]\n",
            " [100 100]\n",
            " [ 20  20]\n",
            " [  3   3]\n",
            " [  3   3]\n",
            " [ 20  20]\n",
            " [ 20  20]\n",
            " [ 20  20]\n",
            " [100 100]\n",
            " [ 20  20]\n",
            " [  3   3]\n",
            " [100 100]\n",
            " [ 20  20]\n",
            " [ 20  20]\n",
            " [  3   3]\n",
            " [  3   3]\n",
            " [100 100]\n",
            " [  3   3]\n",
            " [ 20  20]\n",
            " [100 100]\n",
            " [100 100]\n",
            " [100 100]\n",
            " [  3   3]\n",
            " [  3   3]\n",
            " [ 20  20]\n",
            " [ 20  20]\n",
            " [ 20  20]\n",
            " [100 100]\n",
            " [100 100]\n",
            " [ 20  20]\n",
            " [100 100]\n",
            " [  3   3]\n",
            " [  3   3]\n",
            " [ 20  20]\n",
            " [100 100]\n",
            " [ 20  20]\n",
            " [100 100]\n",
            " [ 20   3]\n",
            " [100 100]\n",
            " [  3   3]\n",
            " [  3   3]\n",
            " [  3   3]\n",
            " [100 100]\n",
            " [100 100]\n",
            " [100 100]\n",
            " [  3   3]\n",
            " [  3   3]\n",
            " [  3   3]\n",
            " [  3   3]\n",
            " [100 100]\n",
            " [ 20  20]\n",
            " [ 20  20]\n",
            " [  3   3]\n",
            " [100 100]]\n"
          ]
        }
      ]
    },
    {
      "cell_type": "markdown",
      "source": [
        "## Make confusion matrics ,accuracy"
      ],
      "metadata": {
        "id": "asfYf45-JMWN"
      }
    },
    {
      "cell_type": "code",
      "metadata": {
        "colab": {
          "base_uri": "https://localhost:8080/"
        },
        "id": "eZ2RJvsJa0pC",
        "outputId": "a01823d6-5cdb-4fe4-95b1-121483600f58"
      },
      "source": [
        "from sklearn.metrics import confusion_matrix, accuracy_score\n",
        "cm = confusion_matrix(y_test,y_pred)\n",
        "print(cm)\n",
        "accuracy_score(y_test,y_pred)*100"
      ],
      "execution_count": null,
      "outputs": [
        {
          "output_type": "stream",
          "name": "stdout",
          "text": [
            "[[142   1   0]\n",
            " [  1 147   0]\n",
            " [  0   0 150]]\n"
          ]
        },
        {
          "output_type": "execute_result",
          "data": {
            "text/plain": [
              "99.54648526077098"
            ]
          },
          "metadata": {},
          "execution_count": 21
        }
      ]
    },
    {
      "cell_type": "markdown",
      "source": [
        "##Cross Validation"
      ],
      "metadata": {
        "id": "_bjzgNdXJWSY"
      }
    },
    {
      "cell_type": "code",
      "metadata": {
        "id": "iX6hPhswa0kK"
      },
      "source": [
        "from sklearn.model_selection import cross_val_score\n",
        "def acc_scores(reg,independent,dependent):\n",
        "  accuracies = cross_val_score(reg, independent, dependent, cv = 10, n_jobs =-1)\n",
        "  print('scores:',accuracies)\n",
        "  print('k-fold accuracy:{:.2f}%'.format(accuracies.mean()*100))\n",
        "  print(\"standard Deviation:{:.2f}%\".format(accuracies.std()*100))"
      ],
      "execution_count": null,
      "outputs": []
    },
    {
      "cell_type": "code",
      "metadata": {
        "colab": {
          "base_uri": "https://localhost:8080/"
        },
        "id": "6g6bbUrYa0d6",
        "outputId": "bbc7b42c-4968-4a90-bc5d-d82c76c53aa2"
      },
      "source": [
        "acc_scores(pipeline_lr,X_train,y_train)"
      ],
      "execution_count": null,
      "outputs": [
        {
          "output_type": "stream",
          "name": "stdout",
          "text": [
            "scores: [1.         1.         0.99435028 1.         1.         1.\n",
            " 0.99431818 1.         0.99431818 1.        ]\n",
            "k-fold accuracy:99.83%\n",
            "standard Deviation:0.26%\n"
          ]
        }
      ]
    },
    {
      "cell_type": "markdown",
      "metadata": {
        "id": "IbRogh4hbSoz"
      },
      "source": [
        "###Decision Tree Classifier"
      ]
    },
    {
      "cell_type": "code",
      "metadata": {
        "id": "QUag8abJa0Y-"
      },
      "source": [
        "from sklearn.tree  import DecisionTreeClassifier\n",
        "pipeline_dt = Pipeline([('Scaleing', StandardScaler()),\n",
        "                        ('Dictree_Classifier', DecisionTreeClassifier(random_state =0,\n",
        "                                                                     criterion= 'entropy' ))])"
      ],
      "execution_count": null,
      "outputs": []
    },
    {
      "cell_type": "code",
      "metadata": {
        "colab": {
          "base_uri": "https://localhost:8080/"
        },
        "id": "AWcLBSOea0TN",
        "outputId": "3890c81b-a568-418f-bf39-8f408076b36c"
      },
      "source": [
        "pipeline_dt.fit(X_train,y_train)"
      ],
      "execution_count": null,
      "outputs": [
        {
          "output_type": "execute_result",
          "data": {
            "text/plain": [
              "Pipeline(steps=[('Scaleing', StandardScaler()),\n",
              "                ('Dictree_Classifier',\n",
              "                 DecisionTreeClassifier(criterion='entropy', random_state=0))])"
            ]
          },
          "metadata": {},
          "execution_count": 25
        }
      ]
    },
    {
      "cell_type": "code",
      "metadata": {
        "colab": {
          "base_uri": "https://localhost:8080/"
        },
        "id": "cLbNHdzCa0OL",
        "outputId": "02f15fd5-3040-4a71-e486-b261eebab419"
      },
      "source": [
        "y_pred_cc = pipeline_dt.predict(X_test)\n",
        "from sklearn.metrics import confusion_matrix, accuracy_score\n",
        "cm = confusion_matrix(y_test,y_pred)\n",
        "print(cm)\n",
        "accuracy_score(y_test,y_pred_cc)*100"
      ],
      "execution_count": null,
      "outputs": [
        {
          "output_type": "stream",
          "name": "stdout",
          "text": [
            "[[142   1   0]\n",
            " [  1 147   0]\n",
            " [  0   0 150]]\n"
          ]
        },
        {
          "output_type": "execute_result",
          "data": {
            "text/plain": [
              "100.0"
            ]
          },
          "metadata": {},
          "execution_count": 26
        }
      ]
    },
    {
      "cell_type": "code",
      "metadata": {
        "colab": {
          "base_uri": "https://localhost:8080/"
        },
        "id": "p1vki4URa0Hk",
        "outputId": "6c32a218-b7f9-4a1b-c780-2a2ecbc802fe"
      },
      "source": [
        "acc_scores(pipeline_dt,X_train,y_train)\n"
      ],
      "execution_count": null,
      "outputs": [
        {
          "output_type": "stream",
          "name": "stdout",
          "text": [
            "scores: [1.         1.         0.99435028 1.         1.         1.\n",
            " 0.99431818 1.         1.         1.        ]\n",
            "k-fold accuracy:99.89%\n",
            "standard Deviation:0.23%\n"
          ]
        }
      ]
    },
    {
      "cell_type": "code",
      "metadata": {
        "id": "-Q_TRVy2a0CI"
      },
      "source": [
        "y_pred_cc=pipeline_dt.predict(X)"
      ],
      "execution_count": null,
      "outputs": []
    },
    {
      "cell_type": "code",
      "metadata": {
        "id": "XfKygXHvam-X"
      },
      "source": [],
      "execution_count": null,
      "outputs": []
    },
    {
      "cell_type": "code",
      "metadata": {
        "id": "s4cYscgdam6k"
      },
      "source": [],
      "execution_count": null,
      "outputs": []
    },
    {
      "cell_type": "markdown",
      "metadata": {
        "id": "_HTvJBCvbvec"
      },
      "source": [
        "###Random Forest Classifier"
      ]
    },
    {
      "cell_type": "code",
      "metadata": {
        "id": "NP8YA10kam3I"
      },
      "source": [
        "from sklearn.ensemble import RandomForestClassifier\n",
        "pipeline_rf = Pipeline([('scaleing',StandardScaler()),\n",
        "                        ('Rantree_classifier',RandomForestClassifier(random_state =0, criterion = 'entropy'))])"
      ],
      "execution_count": null,
      "outputs": []
    },
    {
      "cell_type": "code",
      "metadata": {
        "colab": {
          "base_uri": "https://localhost:8080/"
        },
        "id": "v1EFDvC8amze",
        "outputId": "338634da-167f-4503-b50e-e45e305d0103"
      },
      "source": [
        "pipeline_rf.fit(X_train,y_train)"
      ],
      "execution_count": null,
      "outputs": [
        {
          "output_type": "execute_result",
          "data": {
            "text/plain": [
              "Pipeline(steps=[('scaleing', StandardScaler()),\n",
              "                ('Rantree_classifier',\n",
              "                 RandomForestClassifier(criterion='entropy', random_state=0))])"
            ]
          },
          "metadata": {},
          "execution_count": 30
        }
      ]
    },
    {
      "cell_type": "code",
      "metadata": {
        "colab": {
          "base_uri": "https://localhost:8080/"
        },
        "id": "DLkBcxOXamvS",
        "outputId": "f554f01e-f5bc-4e13-e42f-9b793200535d"
      },
      "source": [
        "y_pred_=pipeline_rf.predict(X_test)\n",
        "from sklearn.metrics import confusion_matrix, accuracy_score\n",
        "cm = confusion_matrix(y_test, y_pred)\n",
        "print(cm)\n",
        "accuracy_score(y_test,y_pred)*100"
      ],
      "execution_count": null,
      "outputs": [
        {
          "output_type": "stream",
          "name": "stdout",
          "text": [
            "[[142   1   0]\n",
            " [  1 147   0]\n",
            " [  0   0 150]]\n"
          ]
        },
        {
          "output_type": "execute_result",
          "data": {
            "text/plain": [
              "99.54648526077098"
            ]
          },
          "metadata": {},
          "execution_count": 31
        }
      ]
    },
    {
      "cell_type": "code",
      "metadata": {
        "colab": {
          "base_uri": "https://localhost:8080/"
        },
        "id": "YQftwh4Lamrm",
        "outputId": "0a8b06c5-ca66-4979-fdcb-92b0107584c5"
      },
      "source": [
        "acc_scores(pipeline_rf, X_train, y_train)"
      ],
      "execution_count": null,
      "outputs": [
        {
          "output_type": "stream",
          "name": "stdout",
          "text": [
            "scores: [1.         1.         0.99435028 1.         1.         1.\n",
            " 0.99431818 1.         1.         1.        ]\n",
            "k-fold accuracy:99.89%\n",
            "standard Deviation:0.23%\n"
          ]
        }
      ]
    },
    {
      "cell_type": "code",
      "metadata": {
        "id": "QG9ZGD_8amoL"
      },
      "source": [],
      "execution_count": null,
      "outputs": []
    },
    {
      "cell_type": "code",
      "metadata": {
        "id": "Pz0AmrOMamjz"
      },
      "source": [],
      "execution_count": null,
      "outputs": []
    },
    {
      "cell_type": "markdown",
      "metadata": {
        "id": "81CneTJOb_sQ"
      },
      "source": [
        "###K-NN"
      ]
    },
    {
      "cell_type": "code",
      "metadata": {
        "id": "mkjhD-aCamfv"
      },
      "source": [
        "from sklearn.neighbors import KNeighborsClassifier\n",
        "pipeline_knn = Pipeline([('Scaleing',StandardScaler()),\n",
        "                         ('KNN',KNeighborsClassifier(n_neighbors=5,metric ='minkowski',p = 2))])"
      ],
      "execution_count": null,
      "outputs": []
    },
    {
      "cell_type": "code",
      "metadata": {
        "colab": {
          "base_uri": "https://localhost:8080/"
        },
        "id": "OR4GpzP4amby",
        "outputId": "66767d27-1caa-4aff-a73a-8f6acd5c68a7"
      },
      "source": [
        "pipeline_knn.fit(X_train,y_train)"
      ],
      "execution_count": null,
      "outputs": [
        {
          "output_type": "execute_result",
          "data": {
            "text/plain": [
              "Pipeline(steps=[('Scaleing', StandardScaler()),\n",
              "                ('KNN', KNeighborsClassifier())])"
            ]
          },
          "metadata": {},
          "execution_count": 34
        }
      ]
    },
    {
      "cell_type": "code",
      "metadata": {
        "colab": {
          "base_uri": "https://localhost:8080/"
        },
        "id": "sCTDA25vcLh-",
        "outputId": "918f08c7-3e6f-4d32-8a0b-3222270216d9"
      },
      "source": [
        "y_pred = pipeline_knn.predict(X_test)\n",
        "from sklearn.metrics import confusion_matrix, accuracy_score\n",
        "cm = confusion_matrix(y_test,y_pred)\n",
        "print(cm)\n",
        "accuracy_score(y_test,y_pred)*100"
      ],
      "execution_count": null,
      "outputs": [
        {
          "output_type": "stream",
          "name": "stdout",
          "text": [
            "[[143   0   0]\n",
            " [  1 147   0]\n",
            " [  0   0 150]]\n"
          ]
        },
        {
          "output_type": "execute_result",
          "data": {
            "text/plain": [
              "99.77324263038548"
            ]
          },
          "metadata": {},
          "execution_count": 35
        }
      ]
    },
    {
      "cell_type": "code",
      "metadata": {
        "colab": {
          "base_uri": "https://localhost:8080/"
        },
        "id": "MfkWLD7NcLde",
        "outputId": "4fa792b6-0978-4888-989c-9aaf73b6e848"
      },
      "source": [
        "acc_scores(pipeline_knn,X_train,y_train)"
      ],
      "execution_count": null,
      "outputs": [
        {
          "output_type": "stream",
          "name": "stdout",
          "text": [
            "scores: [1.         1.         0.99435028 1.         1.         1.\n",
            " 0.99431818 1.         1.         1.        ]\n",
            "k-fold accuracy:99.89%\n",
            "standard Deviation:0.23%\n"
          ]
        }
      ]
    },
    {
      "cell_type": "code",
      "metadata": {
        "id": "DK7LGTe_cLYg"
      },
      "source": [],
      "execution_count": null,
      "outputs": []
    },
    {
      "cell_type": "code",
      "metadata": {
        "id": "4kpWY8yNcLS-"
      },
      "source": [],
      "execution_count": null,
      "outputs": []
    },
    {
      "cell_type": "code",
      "metadata": {
        "id": "Oxy79juwcLOf"
      },
      "source": [],
      "execution_count": null,
      "outputs": []
    },
    {
      "cell_type": "markdown",
      "metadata": {
        "id": "srViku1PcPzi"
      },
      "source": [
        "### SVM"
      ]
    },
    {
      "cell_type": "code",
      "metadata": {
        "id": "-vk8x-uecLJ4"
      },
      "source": [
        "from sklearn.svm import SVC\n",
        "pipeline_svm = Pipeline([('Scaleing',StandardScaler()),\n",
        "                         ('svm',SVC(kernel='linear',random_state =0))])"
      ],
      "execution_count": null,
      "outputs": []
    },
    {
      "cell_type": "code",
      "metadata": {
        "colab": {
          "base_uri": "https://localhost:8080/"
        },
        "id": "xLE5DiIAcLFP",
        "outputId": "298fec81-6889-4190-beec-fe5bfebbc96c"
      },
      "source": [
        "pipeline_svm.fit(X_train,y_train)"
      ],
      "execution_count": null,
      "outputs": [
        {
          "output_type": "execute_result",
          "data": {
            "text/plain": [
              "Pipeline(steps=[('Scaleing', StandardScaler()),\n",
              "                ('svm', SVC(kernel='linear', random_state=0))])"
            ]
          },
          "metadata": {},
          "execution_count": 38
        }
      ]
    },
    {
      "cell_type": "code",
      "metadata": {
        "colab": {
          "base_uri": "https://localhost:8080/"
        },
        "id": "Uig2-AJEcLAe",
        "outputId": "06398948-00d6-4fff-e58d-93c6fc6471d2"
      },
      "source": [
        "y_pred=pipeline_svm.predict(X_test)\n",
        "from sklearn.metrics import confusion_matrix,accuracy_score\n",
        "cm = confusion_matrix(y_test,y_pred)\n",
        "print(cm)\n",
        "accuracy_score(y_test,y_pred)*100"
      ],
      "execution_count": null,
      "outputs": [
        {
          "output_type": "stream",
          "name": "stdout",
          "text": [
            "[[142   1   0]\n",
            " [  1 147   0]\n",
            " [  0   0 150]]\n"
          ]
        },
        {
          "output_type": "execute_result",
          "data": {
            "text/plain": [
              "99.54648526077098"
            ]
          },
          "metadata": {},
          "execution_count": 39
        }
      ]
    },
    {
      "cell_type": "code",
      "metadata": {
        "colab": {
          "base_uri": "https://localhost:8080/"
        },
        "id": "r_rHxkXccK79",
        "outputId": "9aa8dbfa-b463-4b5b-fa72-9e69c228c53c"
      },
      "source": [
        "acc_scores(pipeline_svm,X_train,y_train)"
      ],
      "execution_count": null,
      "outputs": [
        {
          "output_type": "stream",
          "name": "stdout",
          "text": [
            "scores: [1.         1.         0.99435028 1.         1.         1.\n",
            " 0.99431818 1.         1.         1.        ]\n",
            "k-fold accuracy:99.89%\n",
            "standard Deviation:0.23%\n"
          ]
        }
      ]
    },
    {
      "cell_type": "code",
      "metadata": {
        "id": "AuUXzLFbcK3o"
      },
      "source": [],
      "execution_count": null,
      "outputs": []
    },
    {
      "cell_type": "code",
      "metadata": {
        "id": "2Ach-h70cKzh"
      },
      "source": [],
      "execution_count": null,
      "outputs": []
    },
    {
      "cell_type": "markdown",
      "metadata": {
        "id": "0lggKyEyca_Q"
      },
      "source": [
        "###Naive base"
      ]
    },
    {
      "cell_type": "code",
      "metadata": {
        "id": "L3brhVEYcKus"
      },
      "source": [
        "from sklearn.naive_bayes import GaussianNB\n",
        "pipeline_nb = Pipeline([('Scaling',StandardScaler()),\n",
        "                        ('nb',GaussianNB())])"
      ],
      "execution_count": null,
      "outputs": []
    },
    {
      "cell_type": "code",
      "metadata": {
        "colab": {
          "base_uri": "https://localhost:8080/"
        },
        "id": "ry71spMVcKqb",
        "outputId": "15f1a1a9-e6d6-406f-b730-e6e31750d13d"
      },
      "source": [
        "pipeline_nb.fit(X_train,y_train)"
      ],
      "execution_count": null,
      "outputs": [
        {
          "output_type": "execute_result",
          "data": {
            "text/plain": [
              "Pipeline(steps=[('Scaling', StandardScaler()), ('nb', GaussianNB())])"
            ]
          },
          "metadata": {},
          "execution_count": 42
        }
      ]
    },
    {
      "cell_type": "code",
      "metadata": {
        "colab": {
          "base_uri": "https://localhost:8080/"
        },
        "id": "UP6eNcB2cKl3",
        "outputId": "8b9b4748-0c2b-479e-a916-adf727cd2cfa"
      },
      "source": [
        "y_pred = pipeline_nb.predict(X_test)\n",
        "from sklearn.metrics import confusion_matrix,accuracy_score\n",
        "cm = confusion_matrix(y_test,y_pred)\n",
        "print(cm)\n",
        "accuracy_score(y_test,y_pred)*100"
      ],
      "execution_count": null,
      "outputs": [
        {
          "output_type": "stream",
          "name": "stdout",
          "text": [
            "[[143   0   0]\n",
            " [  2 146   0]\n",
            " [  1   0 149]]\n"
          ]
        },
        {
          "output_type": "execute_result",
          "data": {
            "text/plain": [
              "99.31972789115646"
            ]
          },
          "metadata": {},
          "execution_count": 43
        }
      ]
    },
    {
      "cell_type": "code",
      "metadata": {
        "colab": {
          "base_uri": "https://localhost:8080/"
        },
        "id": "ngta3qKFcKhh",
        "outputId": "c796cf42-6cac-42f0-eafe-f26ab1fa1509"
      },
      "source": [
        "acc_scores(pipeline_nb,X_train,y_train)"
      ],
      "execution_count": null,
      "outputs": [
        {
          "output_type": "stream",
          "name": "stdout",
          "text": [
            "scores: [0.99435028 0.99435028 0.98870056 1.         0.99431818 1.\n",
            " 0.99431818 0.99431818 0.99431818 0.99431818]\n",
            "k-fold accuracy:99.49%\n",
            "standard Deviation:0.30%\n"
          ]
        }
      ]
    },
    {
      "cell_type": "code",
      "metadata": {
        "id": "Cu2T_Mihc2eK"
      },
      "source": [],
      "execution_count": null,
      "outputs": []
    },
    {
      "cell_type": "code",
      "metadata": {
        "id": "zOC5bop2c2aE"
      },
      "source": [],
      "execution_count": null,
      "outputs": []
    },
    {
      "cell_type": "markdown",
      "metadata": {
        "id": "r_cy7QQJc5iL"
      },
      "source": [
        "#Dependent Variable VC\n",
        "#### split data\n",
        "#### use Pipeline"
      ]
    },
    {
      "cell_type": "code",
      "metadata": {
        "colab": {
          "base_uri": "https://localhost:8080/",
          "height": 444
        },
        "id": "GGBl03Nic2Oc",
        "outputId": "4a01bfc8-9ce1-4d12-83bb-839144b44f7a"
      },
      "source": [
        "data"
      ],
      "execution_count": null,
      "outputs": [
        {
          "output_type": "execute_result",
          "data": {
            "text/html": [
              "<div>\n",
              "<style scoped>\n",
              "    .dataframe tbody tr th:only-of-type {\n",
              "        vertical-align: middle;\n",
              "    }\n",
              "\n",
              "    .dataframe tbody tr th {\n",
              "        vertical-align: top;\n",
              "    }\n",
              "\n",
              "    .dataframe thead th {\n",
              "        text-align: right;\n",
              "    }\n",
              "</style>\n",
              "<table border=\"1\" class=\"dataframe\">\n",
              "  <thead>\n",
              "    <tr style=\"text-align: right;\">\n",
              "      <th></th>\n",
              "      <th>PS1</th>\n",
              "      <th>PS2</th>\n",
              "      <th>PS3</th>\n",
              "      <th>PS4</th>\n",
              "      <th>PS5</th>\n",
              "      <th>PS6</th>\n",
              "      <th>EPS1</th>\n",
              "      <th>FS1</th>\n",
              "      <th>FS2</th>\n",
              "      <th>TS1</th>\n",
              "      <th>TS2</th>\n",
              "      <th>TS3</th>\n",
              "      <th>TS4</th>\n",
              "      <th>VS1</th>\n",
              "      <th>CE</th>\n",
              "      <th>CP</th>\n",
              "      <th>SE</th>\n",
              "      <th>CC</th>\n",
              "      <th>VC</th>\n",
              "      <th>IPL</th>\n",
              "      <th>HA</th>\n",
              "      <th>SF</th>\n",
              "    </tr>\n",
              "  </thead>\n",
              "  <tbody>\n",
              "    <tr>\n",
              "      <th>0</th>\n",
              "      <td>160.673</td>\n",
              "      <td>109.467</td>\n",
              "      <td>1.991</td>\n",
              "      <td>0.000</td>\n",
              "      <td>9.842</td>\n",
              "      <td>9.728</td>\n",
              "      <td>2538.929</td>\n",
              "      <td>6.710</td>\n",
              "      <td>10.305</td>\n",
              "      <td>35.622</td>\n",
              "      <td>40.979</td>\n",
              "      <td>38.471</td>\n",
              "      <td>31.745</td>\n",
              "      <td>0.577</td>\n",
              "      <td>39.601</td>\n",
              "      <td>1.863</td>\n",
              "      <td>59.157</td>\n",
              "      <td>3</td>\n",
              "      <td>100</td>\n",
              "      <td>0</td>\n",
              "      <td>130</td>\n",
              "      <td>1</td>\n",
              "    </tr>\n",
              "    <tr>\n",
              "      <th>1</th>\n",
              "      <td>160.603</td>\n",
              "      <td>109.355</td>\n",
              "      <td>1.976</td>\n",
              "      <td>0.000</td>\n",
              "      <td>9.635</td>\n",
              "      <td>9.529</td>\n",
              "      <td>2531.499</td>\n",
              "      <td>6.715</td>\n",
              "      <td>10.403</td>\n",
              "      <td>36.677</td>\n",
              "      <td>41.533</td>\n",
              "      <td>38.979</td>\n",
              "      <td>34.494</td>\n",
              "      <td>0.566</td>\n",
              "      <td>25.786</td>\n",
              "      <td>1.256</td>\n",
              "      <td>59.336</td>\n",
              "      <td>3</td>\n",
              "      <td>100</td>\n",
              "      <td>0</td>\n",
              "      <td>130</td>\n",
              "      <td>1</td>\n",
              "    </tr>\n",
              "    <tr>\n",
              "      <th>2</th>\n",
              "      <td>160.348</td>\n",
              "      <td>109.159</td>\n",
              "      <td>1.972</td>\n",
              "      <td>0.000</td>\n",
              "      <td>9.531</td>\n",
              "      <td>9.428</td>\n",
              "      <td>2519.928</td>\n",
              "      <td>6.719</td>\n",
              "      <td>10.366</td>\n",
              "      <td>37.881</td>\n",
              "      <td>42.442</td>\n",
              "      <td>39.632</td>\n",
              "      <td>35.646</td>\n",
              "      <td>0.577</td>\n",
              "      <td>22.218</td>\n",
              "      <td>1.113</td>\n",
              "      <td>59.543</td>\n",
              "      <td>3</td>\n",
              "      <td>100</td>\n",
              "      <td>0</td>\n",
              "      <td>130</td>\n",
              "      <td>1</td>\n",
              "    </tr>\n",
              "    <tr>\n",
              "      <th>3</th>\n",
              "      <td>160.188</td>\n",
              "      <td>109.065</td>\n",
              "      <td>1.947</td>\n",
              "      <td>0.000</td>\n",
              "      <td>9.439</td>\n",
              "      <td>9.337</td>\n",
              "      <td>2511.542</td>\n",
              "      <td>6.721</td>\n",
              "      <td>10.303</td>\n",
              "      <td>38.879</td>\n",
              "      <td>43.404</td>\n",
              "      <td>40.403</td>\n",
              "      <td>36.579</td>\n",
              "      <td>0.569</td>\n",
              "      <td>20.460</td>\n",
              "      <td>1.062</td>\n",
              "      <td>59.795</td>\n",
              "      <td>3</td>\n",
              "      <td>100</td>\n",
              "      <td>0</td>\n",
              "      <td>130</td>\n",
              "      <td>1</td>\n",
              "    </tr>\n",
              "    <tr>\n",
              "      <th>4</th>\n",
              "      <td>160.000</td>\n",
              "      <td>108.931</td>\n",
              "      <td>1.923</td>\n",
              "      <td>0.000</td>\n",
              "      <td>9.359</td>\n",
              "      <td>9.261</td>\n",
              "      <td>2503.450</td>\n",
              "      <td>6.690</td>\n",
              "      <td>10.238</td>\n",
              "      <td>39.804</td>\n",
              "      <td>44.333</td>\n",
              "      <td>41.311</td>\n",
              "      <td>37.428</td>\n",
              "      <td>0.577</td>\n",
              "      <td>19.787</td>\n",
              "      <td>1.070</td>\n",
              "      <td>59.455</td>\n",
              "      <td>3</td>\n",
              "      <td>100</td>\n",
              "      <td>0</td>\n",
              "      <td>130</td>\n",
              "      <td>1</td>\n",
              "    </tr>\n",
              "    <tr>\n",
              "      <th>...</th>\n",
              "      <td>...</td>\n",
              "      <td>...</td>\n",
              "      <td>...</td>\n",
              "      <td>...</td>\n",
              "      <td>...</td>\n",
              "      <td>...</td>\n",
              "      <td>...</td>\n",
              "      <td>...</td>\n",
              "      <td>...</td>\n",
              "      <td>...</td>\n",
              "      <td>...</td>\n",
              "      <td>...</td>\n",
              "      <td>...</td>\n",
              "      <td>...</td>\n",
              "      <td>...</td>\n",
              "      <td>...</td>\n",
              "      <td>...</td>\n",
              "      <td>...</td>\n",
              "      <td>...</td>\n",
              "      <td>...</td>\n",
              "      <td>...</td>\n",
              "      <td>...</td>\n",
              "    </tr>\n",
              "    <tr>\n",
              "      <th>2200</th>\n",
              "      <td>161.228</td>\n",
              "      <td>109.780</td>\n",
              "      <td>2.001</td>\n",
              "      <td>10.202</td>\n",
              "      <td>9.972</td>\n",
              "      <td>9.850</td>\n",
              "      <td>2543.911</td>\n",
              "      <td>6.690</td>\n",
              "      <td>10.185</td>\n",
              "      <td>35.314</td>\n",
              "      <td>40.875</td>\n",
              "      <td>38.269</td>\n",
              "      <td>30.405</td>\n",
              "      <td>0.551</td>\n",
              "      <td>46.629</td>\n",
              "      <td>2.161</td>\n",
              "      <td>59.033</td>\n",
              "      <td>100</td>\n",
              "      <td>100</td>\n",
              "      <td>0</td>\n",
              "      <td>90</td>\n",
              "      <td>0</td>\n",
              "    </tr>\n",
              "    <tr>\n",
              "      <th>2201</th>\n",
              "      <td>161.206</td>\n",
              "      <td>109.787</td>\n",
              "      <td>1.999</td>\n",
              "      <td>10.198</td>\n",
              "      <td>9.966</td>\n",
              "      <td>9.845</td>\n",
              "      <td>2543.411</td>\n",
              "      <td>6.692</td>\n",
              "      <td>10.178</td>\n",
              "      <td>35.322</td>\n",
              "      <td>40.869</td>\n",
              "      <td>38.268</td>\n",
              "      <td>30.416</td>\n",
              "      <td>0.547</td>\n",
              "      <td>46.690</td>\n",
              "      <td>2.151</td>\n",
              "      <td>59.068</td>\n",
              "      <td>100</td>\n",
              "      <td>100</td>\n",
              "      <td>0</td>\n",
              "      <td>90</td>\n",
              "      <td>0</td>\n",
              "    </tr>\n",
              "    <tr>\n",
              "      <th>2202</th>\n",
              "      <td>161.192</td>\n",
              "      <td>109.756</td>\n",
              "      <td>1.993</td>\n",
              "      <td>10.197</td>\n",
              "      <td>9.964</td>\n",
              "      <td>9.843</td>\n",
              "      <td>2542.730</td>\n",
              "      <td>6.693</td>\n",
              "      <td>10.176</td>\n",
              "      <td>35.319</td>\n",
              "      <td>40.876</td>\n",
              "      <td>38.246</td>\n",
              "      <td>30.426</td>\n",
              "      <td>0.545</td>\n",
              "      <td>46.472</td>\n",
              "      <td>2.143</td>\n",
              "      <td>59.132</td>\n",
              "      <td>100</td>\n",
              "      <td>100</td>\n",
              "      <td>0</td>\n",
              "      <td>90</td>\n",
              "      <td>0</td>\n",
              "    </tr>\n",
              "    <tr>\n",
              "      <th>2203</th>\n",
              "      <td>161.209</td>\n",
              "      <td>109.794</td>\n",
              "      <td>2.007</td>\n",
              "      <td>10.199</td>\n",
              "      <td>9.968</td>\n",
              "      <td>9.847</td>\n",
              "      <td>2544.046</td>\n",
              "      <td>6.684</td>\n",
              "      <td>10.178</td>\n",
              "      <td>35.325</td>\n",
              "      <td>40.876</td>\n",
              "      <td>38.246</td>\n",
              "      <td>30.414</td>\n",
              "      <td>0.537</td>\n",
              "      <td>46.545</td>\n",
              "      <td>2.148</td>\n",
              "      <td>58.971</td>\n",
              "      <td>100</td>\n",
              "      <td>100</td>\n",
              "      <td>0</td>\n",
              "      <td>90</td>\n",
              "      <td>0</td>\n",
              "    </tr>\n",
              "    <tr>\n",
              "      <th>2204</th>\n",
              "      <td>161.217</td>\n",
              "      <td>109.792</td>\n",
              "      <td>2.003</td>\n",
              "      <td>10.203</td>\n",
              "      <td>9.974</td>\n",
              "      <td>9.852</td>\n",
              "      <td>2543.818</td>\n",
              "      <td>6.692</td>\n",
              "      <td>10.183</td>\n",
              "      <td>35.322</td>\n",
              "      <td>40.859</td>\n",
              "      <td>38.249</td>\n",
              "      <td>30.391</td>\n",
              "      <td>0.547</td>\n",
              "      <td>46.648</td>\n",
              "      <td>2.157</td>\n",
              "      <td>59.054</td>\n",
              "      <td>100</td>\n",
              "      <td>100</td>\n",
              "      <td>0</td>\n",
              "      <td>90</td>\n",
              "      <td>0</td>\n",
              "    </tr>\n",
              "  </tbody>\n",
              "</table>\n",
              "<p>2205 rows × 22 columns</p>\n",
              "</div>"
            ],
            "text/plain": [
              "          PS1      PS2    PS3     PS4    PS5  ...   CC   VC  IPL   HA  SF\n",
              "0     160.673  109.467  1.991   0.000  9.842  ...    3  100    0  130   1\n",
              "1     160.603  109.355  1.976   0.000  9.635  ...    3  100    0  130   1\n",
              "2     160.348  109.159  1.972   0.000  9.531  ...    3  100    0  130   1\n",
              "3     160.188  109.065  1.947   0.000  9.439  ...    3  100    0  130   1\n",
              "4     160.000  108.931  1.923   0.000  9.359  ...    3  100    0  130   1\n",
              "...       ...      ...    ...     ...    ...  ...  ...  ...  ...  ...  ..\n",
              "2200  161.228  109.780  2.001  10.202  9.972  ...  100  100    0   90   0\n",
              "2201  161.206  109.787  1.999  10.198  9.966  ...  100  100    0   90   0\n",
              "2202  161.192  109.756  1.993  10.197  9.964  ...  100  100    0   90   0\n",
              "2203  161.209  109.794  2.007  10.199  9.968  ...  100  100    0   90   0\n",
              "2204  161.217  109.792  2.003  10.203  9.974  ...  100  100    0   90   0\n",
              "\n",
              "[2205 rows x 22 columns]"
            ]
          },
          "metadata": {},
          "execution_count": 45
        }
      ]
    },
    {
      "cell_type": "code",
      "metadata": {
        "id": "8z1TwO9bc2Ja"
      },
      "source": [
        "X = data.iloc[:,:17].values\n",
        "y = data.iloc[:,-4].values"
      ],
      "execution_count": null,
      "outputs": []
    },
    {
      "cell_type": "code",
      "metadata": {
        "id": "MmJhBWTmc2DJ"
      },
      "source": [
        "from sklearn.model_selection import train_test_split\n",
        "X_train,X_test,y_train,y_test = train_test_split(X,y,test_size = 0.2, random_state = 10)\n"
      ],
      "execution_count": null,
      "outputs": []
    },
    {
      "cell_type": "code",
      "metadata": {
        "id": "ND9-iZVdc19a"
      },
      "source": [
        "pipeline_lr = Pipeline([('Scaling', StandardScaler()),\n",
        "                        ('lr_classifier',LogisticRegression(random_state=0))])\n",
        "pipeline_dt = Pipeline([('Scaling',StandardScaler()),\n",
        "                        ('dt_classi',DecisionTreeClassifier(random_state= 0, criterion = 'entropy'))])\n",
        "pipeline_rf = Pipeline([('Scaling',StandardScaler()),\n",
        "                        ('rf',RandomForestClassifier(random_state=0,criterion='entropy'))])\n",
        "pipeline_knn = Pipeline([('Scaling',StandardScaler()),\n",
        "                         ('knn',KNeighborsClassifier(n_neighbors= 5, metric = 'minkowski',p=2))])\n",
        "pipeline_svm = Pipeline([('Scaling',StandardScaler()),\n",
        "                         ('svm',SVC(kernel ='rbf',random_state=0))])\n",
        "pipeline_nb = Pipeline([('scaling',StandardScaler()),\n",
        "                        ('nb',GaussianNB())])"
      ],
      "execution_count": null,
      "outputs": []
    },
    {
      "cell_type": "code",
      "metadata": {
        "colab": {
          "base_uri": "https://localhost:8080/"
        },
        "id": "NfhOaptrc13z",
        "outputId": "4044d228-7e1a-4d8f-e435-9500ca2cfb4c"
      },
      "source": [
        "full_pipeline = [pipeline_lr,pipeline_dt,pipeline_rf,pipeline_knn,pipeline_svm,pipeline_nb]\n",
        "\n",
        "for i in full_pipeline:\n",
        "  i.fit(X_train,y_train)"
      ],
      "execution_count": null,
      "outputs": [
        {
          "output_type": "stream",
          "name": "stderr",
          "text": [
            "/usr/local/lib/python3.7/dist-packages/sklearn/linear_model/_logistic.py:818: ConvergenceWarning: lbfgs failed to converge (status=1):\n",
            "STOP: TOTAL NO. of ITERATIONS REACHED LIMIT.\n",
            "\n",
            "Increase the number of iterations (max_iter) or scale the data as shown in:\n",
            "    https://scikit-learn.org/stable/modules/preprocessing.html\n",
            "Please also refer to the documentation for alternative solver options:\n",
            "    https://scikit-learn.org/stable/modules/linear_model.html#logistic-regression\n",
            "  extra_warning_msg=_LOGISTIC_SOLVER_CONVERGENCE_MSG,\n"
          ]
        }
      ]
    },
    {
      "cell_type": "code",
      "metadata": {
        "colab": {
          "base_uri": "https://localhost:8080/"
        },
        "id": "t6NJmI7ec1zJ",
        "outputId": "72e6448d-1eb0-4fc0-edfc-079d6efaaa62"
      },
      "source": [
        "full_pipeline_str = ['Logistic regression','dession tree','random forest','KNN','SVM','Navie bayse']\n",
        "\n",
        "from sklearn.metrics import confusion_matrix,accuracy_score\n",
        "for i,j in zip(full_pipeline,full_pipeline_str):\n",
        "  y_pred= i.predict(X_test)\n",
        "  print(j,':-')\n",
        "  acc_scores(i,X_train,y_train)\n",
        "  cm= confusion_matrix(y_test,y_pred)\n",
        "  print(cm)\n",
        "  print('Accuracy: {%:.4f}',format(accuracy_score(y_test,y_pred)*100))\n",
        "  print(\"\\n\\n\")"
      ],
      "execution_count": null,
      "outputs": [
        {
          "output_type": "stream",
          "name": "stdout",
          "text": [
            "Logistic regression :-\n",
            "scores: [0.75141243 0.70056497 0.74011299 0.68361582 0.69318182 0.71022727\n",
            " 0.71590909 0.69886364 0.71022727 0.71590909]\n",
            "k-fold accuracy:71.20%\n",
            "standard Deviation:1.96%\n",
            "[[ 69   2   0   0]\n",
            " [ 19  17   0  25]\n",
            " [  1   2  11  51]\n",
            " [  2   0   7 235]]\n",
            "Accuracy: {%:.4f} 75.28344671201815\n",
            "\n",
            "\n",
            "\n",
            "dession tree :-\n",
            "scores: [0.93220339 0.93785311 0.9039548  0.96610169 0.95454545 0.95454545\n",
            " 0.94318182 0.94318182 0.9375     0.92045455]\n",
            "k-fold accuracy:93.94%\n",
            "standard Deviation:1.70%\n",
            "[[ 67   1   2   1]\n",
            " [  3  54   2   2]\n",
            " [  1   4  58   2]\n",
            " [  0   3   7 234]]\n",
            "Accuracy: {%:.4f} 93.65079365079364\n",
            "\n",
            "\n",
            "\n",
            "random forest :-\n",
            "scores: [0.96045198 0.96045198 0.96045198 1.         0.96590909 0.96590909\n",
            " 0.97159091 0.94886364 0.97727273 0.97159091]\n",
            "k-fold accuracy:96.82%\n",
            "standard Deviation:1.30%\n",
            "[[ 70   1   0   0]\n",
            " [  1  60   0   0]\n",
            " [  1   1  61   2]\n",
            " [  1   0   4 239]]\n",
            "Accuracy: {%:.4f} 97.50566893424036\n",
            "\n",
            "\n",
            "\n",
            "KNN :-\n",
            "scores: [0.81355932 0.77966102 0.84180791 0.83050847 0.75       0.82954545\n",
            " 0.77840909 0.82954545 0.78409091 0.80681818]\n",
            "k-fold accuracy:80.44%\n",
            "standard Deviation:2.85%\n",
            "[[ 66   3   1   1]\n",
            " [  6  45   8   2]\n",
            " [  3  11  43   8]\n",
            " [  4   7  21 212]]\n",
            "Accuracy: {%:.4f} 82.99319727891157\n",
            "\n",
            "\n",
            "\n",
            "SVM :-\n",
            "scores: [0.53107345 0.51412429 0.49152542 0.51977401 0.53977273 0.5\n",
            " 0.54545455 0.51136364 0.49431818 0.55113636]\n",
            "k-fold accuracy:51.99%\n",
            "standard Deviation:2.03%\n",
            "[[ 24   0   0  47]\n",
            " [  2   0   0  59]\n",
            " [  2   0   0  63]\n",
            " [  1   0   0 243]]\n",
            "Accuracy: {%:.4f} 60.544217687074834\n",
            "\n",
            "\n",
            "\n",
            "Navie bayse :-\n",
            "scores: [0.49717514 0.49717514 0.48022599 0.49717514 0.48863636 0.48295455\n",
            " 0.50568182 0.48863636 0.46590909 0.49431818]\n",
            "k-fold accuracy:48.98%\n",
            "standard Deviation:1.07%\n",
            "[[  9   0   0  62]\n",
            " [  7   0   0  54]\n",
            " [  9   0   0  56]\n",
            " [ 13   0   0 231]]\n",
            "Accuracy: {%:.4f} 54.421768707483\n",
            "\n",
            "\n",
            "\n"
          ]
        }
      ]
    },
    {
      "cell_type": "markdown",
      "metadata": {
        "id": "mLVdwNzEfugw"
      },
      "source": [
        "## predict value on full ds"
      ]
    },
    {
      "cell_type": "code",
      "metadata": {
        "id": "kA0EjW6Wc1vA"
      },
      "source": [
        "y_pred_vc=pipeline_dt.predict(X)"
      ],
      "execution_count": null,
      "outputs": []
    },
    {
      "cell_type": "markdown",
      "metadata": {
        "id": "HP50I-wqdYPa"
      },
      "source": [
        "#Dependent Variable IPL"
      ]
    },
    {
      "cell_type": "code",
      "metadata": {
        "id": "B3R2HHM5c1mA"
      },
      "source": [
        "X = data.iloc[:,:17].values\n",
        "y = data.iloc[:,-3].values"
      ],
      "execution_count": null,
      "outputs": []
    },
    {
      "cell_type": "code",
      "metadata": {
        "id": "TGlNTyQfc1h6"
      },
      "source": [
        "from sklearn.model_selection import train_test_split\n",
        "X_train,X_test,y_train,y_test = train_test_split(X,y,test_size = 0.2, random_state = 10)\n"
      ],
      "execution_count": null,
      "outputs": []
    },
    {
      "cell_type": "code",
      "metadata": {
        "id": "Jn3ggd-EdzRi"
      },
      "source": [
        "pipeline_lr = Pipeline([('Scaling', StandardScaler()),\n",
        "                        ('lr_classifier',LogisticRegression(random_state=0))])\n",
        "pipeline_dt = Pipeline([('Scaling',StandardScaler()),\n",
        "                        ('dt_classi',DecisionTreeClassifier(random_state= 0, criterion = 'entropy'))])\n",
        "pipeline_rf = Pipeline([('Scaling',StandardScaler()),\n",
        "                        ('rf',RandomForestClassifier(random_state=0,criterion='entropy'))])\n",
        "pipeline_knn = Pipeline([('Scaling',StandardScaler()),\n",
        "                         ('knn',KNeighborsClassifier(n_neighbors= 5, metric = 'minkowski',p=2))])\n",
        "pipeline_svm = Pipeline([('Scaling',StandardScaler()),\n",
        "                         ('svm',SVC(kernel ='rbf',random_state=0))])\n",
        "pipeline_nb = Pipeline([('scaling',StandardScaler()),\n",
        "                        ('nb',GaussianNB())])"
      ],
      "execution_count": null,
      "outputs": []
    },
    {
      "cell_type": "code",
      "metadata": {
        "colab": {
          "base_uri": "https://localhost:8080/"
        },
        "id": "4AdJomwVdzCc",
        "outputId": "0784180e-c02d-4494-ea4b-7259508b6188"
      },
      "source": [
        "full_pipeline = [pipeline_lr,pipeline_dt,pipeline_rf,pipeline_knn,pipeline_svm,pipeline_nb]\n",
        "\n",
        "for i in full_pipeline:\n",
        "  i.fit(X_train,y_train)"
      ],
      "execution_count": null,
      "outputs": [
        {
          "output_type": "stream",
          "name": "stderr",
          "text": [
            "/usr/local/lib/python3.7/dist-packages/sklearn/linear_model/_logistic.py:818: ConvergenceWarning: lbfgs failed to converge (status=1):\n",
            "STOP: TOTAL NO. of ITERATIONS REACHED LIMIT.\n",
            "\n",
            "Increase the number of iterations (max_iter) or scale the data as shown in:\n",
            "    https://scikit-learn.org/stable/modules/preprocessing.html\n",
            "Please also refer to the documentation for alternative solver options:\n",
            "    https://scikit-learn.org/stable/modules/linear_model.html#logistic-regression\n",
            "  extra_warning_msg=_LOGISTIC_SOLVER_CONVERGENCE_MSG,\n"
          ]
        }
      ]
    },
    {
      "cell_type": "code",
      "metadata": {
        "colab": {
          "base_uri": "https://localhost:8080/"
        },
        "id": "GTpVT6Z0c1WR",
        "outputId": "8149f2a8-3a1d-4960-dd18-b7b4ed1e6e95"
      },
      "source": [
        "full_pipeline_str = ['Logistic regression','dession tree','random forest','KNN','SVM','Navie bayse']\n",
        "\n",
        "from sklearn.metrics import confusion_matrix,accuracy_score\n",
        "for i,j in zip(full_pipeline,full_pipeline_str):\n",
        "  y_pred= i.predict(X_test)\n",
        "  print(j,':-')\n",
        "  acc_scores(i,X_train,y_train)\n",
        "  cm= confusion_matrix(y_test,y_pred)\n",
        "  print(cm)\n",
        "  print('Accuracy: {%:.4f}',format(accuracy_score(y_test,y_pred)*100))\n",
        "  print(\"\\n\\n\")"
      ],
      "execution_count": null,
      "outputs": [
        {
          "output_type": "stream",
          "name": "stdout",
          "text": [
            "Logistic regression :-\n",
            "scores: [0.98870056 0.98305085 0.97175141 0.98305085 1.         0.97727273\n",
            " 0.99431818 0.98295455 0.98295455 0.98863636]\n",
            "k-fold accuracy:98.53%\n",
            "standard Deviation:0.77%\n",
            "[[265   2   0]\n",
            " [  0  76   4]\n",
            " [  0   1  93]]\n",
            "Accuracy: {%:.4f} 98.4126984126984\n",
            "\n",
            "\n",
            "\n",
            "dession tree :-\n",
            "scores: [0.99435028 1.         0.99435028 0.98305085 0.98863636 0.98295455\n",
            " 0.98863636 0.96590909 0.98295455 0.98863636]\n",
            "k-fold accuracy:98.69%\n",
            "standard Deviation:0.88%\n",
            "[[267   0   0]\n",
            " [  0  80   0]\n",
            " [  0   3  91]]\n",
            "Accuracy: {%:.4f} 99.31972789115646\n",
            "\n",
            "\n",
            "\n",
            "random forest :-\n",
            "scores: [0.99435028 0.99435028 0.99435028 0.99435028 0.98863636 0.99431818\n",
            " 0.98863636 0.98295455 0.99431818 0.98863636]\n",
            "k-fold accuracy:99.15%\n",
            "standard Deviation:0.38%\n",
            "[[267   0   0]\n",
            " [  0  80   0]\n",
            " [  0   1  93]]\n",
            "Accuracy: {%:.4f} 99.77324263038548\n",
            "\n",
            "\n",
            "\n",
            "KNN :-\n",
            "scores: [0.98870056 0.97740113 0.97740113 0.99435028 0.97727273 0.98863636\n",
            " 0.98295455 0.98295455 0.98863636 0.97727273]\n",
            "k-fold accuracy:98.36%\n",
            "standard Deviation:0.59%\n",
            "[[267   0   0]\n",
            " [  0  80   0]\n",
            " [  2   4  88]]\n",
            "Accuracy: {%:.4f} 98.63945578231292\n",
            "\n",
            "\n",
            "\n",
            "SVM :-\n",
            "scores: [0.92090395 0.94915254 0.93785311 0.91525424 0.94886364 0.93181818\n",
            " 0.96022727 0.92613636 0.93181818 0.9375    ]\n",
            "k-fold accuracy:93.60%\n",
            "standard Deviation:1.31%\n",
            "[[264   2   1]\n",
            " [  0  77   3]\n",
            " [  0  13  81]]\n",
            "Accuracy: {%:.4f} 95.69160997732426\n",
            "\n",
            "\n",
            "\n",
            "Navie bayse :-\n",
            "scores: [0.55932203 0.5819209  0.58757062 0.55932203 0.59090909 0.59090909\n",
            " 0.57954545 0.60227273 0.5625     0.60227273]\n",
            "k-fold accuracy:58.17%\n",
            "standard Deviation:1.56%\n",
            "[[264   0   3]\n",
            " [ 68   0  12]\n",
            " [ 72   0  22]]\n",
            "Accuracy: {%:.4f} 64.85260770975057\n",
            "\n",
            "\n",
            "\n"
          ]
        }
      ]
    },
    {
      "cell_type": "code",
      "metadata": {
        "id": "Nd4KQYc7g0Ci"
      },
      "source": [
        "y_pred_ipl=pipeline_dt.predict(X)"
      ],
      "execution_count": null,
      "outputs": []
    },
    {
      "cell_type": "code",
      "metadata": {
        "id": "5ee0oed0gz3N"
      },
      "source": [],
      "execution_count": null,
      "outputs": []
    },
    {
      "cell_type": "code",
      "metadata": {
        "id": "JZJ3gPmdc1QT"
      },
      "source": [],
      "execution_count": null,
      "outputs": []
    },
    {
      "cell_type": "code",
      "metadata": {
        "id": "q9gLr_Mnc1K2"
      },
      "source": [],
      "execution_count": null,
      "outputs": []
    },
    {
      "cell_type": "markdown",
      "metadata": {
        "id": "DGhmIm3zeHJv"
      },
      "source": [
        "# Dependent variable HA"
      ]
    },
    {
      "cell_type": "code",
      "metadata": {
        "id": "HZ0dtAI7c1EA"
      },
      "source": [
        "X = data.iloc[:,:17].values\n",
        "y = data.iloc[:,-2].values"
      ],
      "execution_count": null,
      "outputs": []
    },
    {
      "cell_type": "code",
      "metadata": {
        "id": "KIxghOJec08s"
      },
      "source": [
        "from sklearn.model_selection import train_test_split\n",
        "X_train,X_test,y_train,y_test = train_test_split(X,y,test_size = 0.2, random_state = 10)\n"
      ],
      "execution_count": null,
      "outputs": []
    },
    {
      "cell_type": "code",
      "metadata": {
        "id": "GYiviYCbcKdP"
      },
      "source": [
        "pipeline_lr = Pipeline([('Scaling', StandardScaler()),\n",
        "                        ('lr_classifier',LogisticRegression(random_state=0))])\n",
        "pipeline_dt = Pipeline([('Scaling',StandardScaler()),\n",
        "                        ('dt_classi',DecisionTreeClassifier(random_state= 0, criterion = 'entropy'))])\n",
        "pipeline_rf = Pipeline([('Scaling',StandardScaler()),\n",
        "                        ('rf',RandomForestClassifier(random_state=0,criterion='entropy'))])\n",
        "pipeline_knn = Pipeline([('Scaling',StandardScaler()),\n",
        "                         ('knn',KNeighborsClassifier(n_neighbors= 5, metric = 'minkowski',p=2))])\n",
        "pipeline_svm = Pipeline([('Scaling',StandardScaler()),\n",
        "                         ('svm',SVC(kernel ='rbf',random_state=0))])\n",
        "pipeline_nb = Pipeline([('scaling',StandardScaler()),\n",
        "                        ('nb',GaussianNB())])"
      ],
      "execution_count": null,
      "outputs": []
    },
    {
      "cell_type": "code",
      "metadata": {
        "colab": {
          "base_uri": "https://localhost:8080/"
        },
        "id": "anKjZcp1cKZL",
        "outputId": "46d8055b-a4c0-45a7-ff5a-f85f1ebba72c"
      },
      "source": [
        "full_pipeline = [pipeline_lr,pipeline_dt,pipeline_rf,pipeline_knn,pipeline_svm,pipeline_nb]\n",
        "\n",
        "for i in full_pipeline:\n",
        "  i.fit(X_train,y_train)\n"
      ],
      "execution_count": null,
      "outputs": [
        {
          "output_type": "stream",
          "name": "stderr",
          "text": [
            "/usr/local/lib/python3.7/dist-packages/sklearn/linear_model/_logistic.py:818: ConvergenceWarning: lbfgs failed to converge (status=1):\n",
            "STOP: TOTAL NO. of ITERATIONS REACHED LIMIT.\n",
            "\n",
            "Increase the number of iterations (max_iter) or scale the data as shown in:\n",
            "    https://scikit-learn.org/stable/modules/preprocessing.html\n",
            "Please also refer to the documentation for alternative solver options:\n",
            "    https://scikit-learn.org/stable/modules/linear_model.html#logistic-regression\n",
            "  extra_warning_msg=_LOGISTIC_SOLVER_CONVERGENCE_MSG,\n"
          ]
        }
      ]
    },
    {
      "cell_type": "code",
      "metadata": {
        "colab": {
          "base_uri": "https://localhost:8080/"
        },
        "id": "T7ea4eOIcKUu",
        "outputId": "88601b7d-3ddc-476a-eca5-a29fe4561367"
      },
      "source": [
        "full_pipeline_str = ['Logistic regression','dession tree','random forest','KNN','SVM','Navie bayse']\n",
        "\n",
        "from sklearn.metrics import confusion_matrix,accuracy_score\n",
        "for i,j in zip(full_pipeline,full_pipeline_str):\n",
        "  y_pred= i.predict(X_test)\n",
        "  print(j,':-')\n",
        "  acc_scores(i,X_train,y_train)\n",
        "  cm= confusion_matrix(y_test,y_pred)\n",
        "  print(cm)\n",
        "  print('Accuracy: {:.4f}%',format(accuracy_score(y_test,y_pred)*100))\n",
        "  print(\"\\n\\n\")"
      ],
      "execution_count": null,
      "outputs": [
        {
          "output_type": "stream",
          "name": "stdout",
          "text": [
            "Logistic regression :-\n",
            "scores: [0.64971751 0.63276836 0.62146893 0.65536723 0.61931818 0.63068182\n",
            " 0.57954545 0.66477273 0.67045455 0.67045455]\n",
            "k-fold accuracy:63.95%\n",
            "standard Deviation:2.71%\n",
            "[[141  16   1   4]\n",
            " [ 49  16   6  10]\n",
            " [ 27   1  22  28]\n",
            " [ 10   0   4 106]]\n",
            "Accuracy: {:.4f}% 64.62585034013605\n",
            "\n",
            "\n",
            "\n",
            "dession tree :-\n",
            "scores: [0.93785311 0.93785311 0.93220339 0.96610169 0.97159091 0.94318182\n",
            " 0.94886364 0.96590909 0.96022727 0.96590909]\n",
            "k-fold accuracy:95.30%\n",
            "standard Deviation:1.38%\n",
            "[[157   4   0   1]\n",
            " [  1  78   2   0]\n",
            " [  3   1  74   0]\n",
            " [  0   1   0 119]]\n",
            "Accuracy: {:.4f}% 97.05215419501134\n",
            "\n",
            "\n",
            "\n",
            "random forest :-\n",
            "scores: [0.96610169 0.98870056 0.97175141 0.97740113 0.99431818 0.96022727\n",
            " 0.97727273 0.98295455 0.97727273 0.98863636]\n",
            "k-fold accuracy:97.85%\n",
            "standard Deviation:1.01%\n",
            "[[156   5   1   0]\n",
            " [  0  77   4   0]\n",
            " [  0   0  78   0]\n",
            " [  0   0   0 120]]\n",
            "Accuracy: {:.4f}% 97.73242630385488\n",
            "\n",
            "\n",
            "\n",
            "KNN :-\n",
            "scores: [0.90960452 0.94350282 0.92090395 0.93785311 0.94318182 0.9375\n",
            " 0.91477273 0.94318182 0.94318182 0.94886364]\n",
            "k-fold accuracy:93.43%\n",
            "standard Deviation:1.31%\n",
            "[[157   5   0   0]\n",
            " [  2  71   8   0]\n",
            " [  0   1  77   0]\n",
            " [  0   1   0 119]]\n",
            "Accuracy: {:.4f}% 96.14512471655328\n",
            "\n",
            "\n",
            "\n",
            "SVM :-\n",
            "scores: [0.62146893 0.58757062 0.53107345 0.58757062 0.60795455 0.57386364\n",
            " 0.57386364 0.57954545 0.625      0.61931818]\n",
            "k-fold accuracy:59.07%\n",
            "standard Deviation:2.74%\n",
            "[[145  17   0   0]\n",
            " [ 37  42   2   0]\n",
            " [ 49  16   9   4]\n",
            " [ 33   1   0  86]]\n",
            "Accuracy: {:.4f}% 63.94557823129252\n",
            "\n",
            "\n",
            "\n",
            "Navie bayse :-\n",
            "scores: [0.3559322  0.39548023 0.39548023 0.41242938 0.44886364 0.38636364\n",
            " 0.40909091 0.43181818 0.40340909 0.39772727]\n",
            "k-fold accuracy:40.37%\n",
            "standard Deviation:2.39%\n",
            "[[64  8  0 90]\n",
            " [35 17  0 29]\n",
            " [29 12  0 37]\n",
            " [22  0  0 98]]\n",
            "Accuracy: {:.4f}% 40.58956916099773\n",
            "\n",
            "\n",
            "\n"
          ]
        }
      ]
    },
    {
      "cell_type": "code",
      "metadata": {
        "id": "MdSlbQvAg_9J"
      },
      "source": [
        "y_pred_ha=pipeline_dt.predict(X)"
      ],
      "execution_count": null,
      "outputs": []
    },
    {
      "cell_type": "code",
      "metadata": {
        "id": "mWcAMMH9g_2j"
      },
      "source": [],
      "execution_count": null,
      "outputs": []
    },
    {
      "cell_type": "code",
      "metadata": {
        "id": "lhJX05s7g_sH"
      },
      "source": [],
      "execution_count": null,
      "outputs": []
    },
    {
      "cell_type": "markdown",
      "metadata": {
        "id": "KD9xsLb1eqi-"
      },
      "source": [
        "#Dependent variable DataFrame"
      ]
    },
    {
      "cell_type": "code",
      "metadata": {
        "colab": {
          "base_uri": "https://localhost:8080/",
          "height": 444
        },
        "id": "jO3xlc2ucKQv",
        "outputId": "11107a6f-40ea-4473-eb30-17b7b327afa2"
      },
      "source": [
        "data"
      ],
      "execution_count": null,
      "outputs": [
        {
          "output_type": "execute_result",
          "data": {
            "text/html": [
              "<div>\n",
              "<style scoped>\n",
              "    .dataframe tbody tr th:only-of-type {\n",
              "        vertical-align: middle;\n",
              "    }\n",
              "\n",
              "    .dataframe tbody tr th {\n",
              "        vertical-align: top;\n",
              "    }\n",
              "\n",
              "    .dataframe thead th {\n",
              "        text-align: right;\n",
              "    }\n",
              "</style>\n",
              "<table border=\"1\" class=\"dataframe\">\n",
              "  <thead>\n",
              "    <tr style=\"text-align: right;\">\n",
              "      <th></th>\n",
              "      <th>PS1</th>\n",
              "      <th>PS2</th>\n",
              "      <th>PS3</th>\n",
              "      <th>PS4</th>\n",
              "      <th>PS5</th>\n",
              "      <th>PS6</th>\n",
              "      <th>EPS1</th>\n",
              "      <th>FS1</th>\n",
              "      <th>FS2</th>\n",
              "      <th>TS1</th>\n",
              "      <th>TS2</th>\n",
              "      <th>TS3</th>\n",
              "      <th>TS4</th>\n",
              "      <th>VS1</th>\n",
              "      <th>CE</th>\n",
              "      <th>CP</th>\n",
              "      <th>SE</th>\n",
              "      <th>CC</th>\n",
              "      <th>VC</th>\n",
              "      <th>IPL</th>\n",
              "      <th>HA</th>\n",
              "      <th>SF</th>\n",
              "    </tr>\n",
              "  </thead>\n",
              "  <tbody>\n",
              "    <tr>\n",
              "      <th>0</th>\n",
              "      <td>160.673</td>\n",
              "      <td>109.467</td>\n",
              "      <td>1.991</td>\n",
              "      <td>0.000</td>\n",
              "      <td>9.842</td>\n",
              "      <td>9.728</td>\n",
              "      <td>2538.929</td>\n",
              "      <td>6.710</td>\n",
              "      <td>10.305</td>\n",
              "      <td>35.622</td>\n",
              "      <td>40.979</td>\n",
              "      <td>38.471</td>\n",
              "      <td>31.745</td>\n",
              "      <td>0.577</td>\n",
              "      <td>39.601</td>\n",
              "      <td>1.863</td>\n",
              "      <td>59.157</td>\n",
              "      <td>3</td>\n",
              "      <td>100</td>\n",
              "      <td>0</td>\n",
              "      <td>130</td>\n",
              "      <td>1</td>\n",
              "    </tr>\n",
              "    <tr>\n",
              "      <th>1</th>\n",
              "      <td>160.603</td>\n",
              "      <td>109.355</td>\n",
              "      <td>1.976</td>\n",
              "      <td>0.000</td>\n",
              "      <td>9.635</td>\n",
              "      <td>9.529</td>\n",
              "      <td>2531.499</td>\n",
              "      <td>6.715</td>\n",
              "      <td>10.403</td>\n",
              "      <td>36.677</td>\n",
              "      <td>41.533</td>\n",
              "      <td>38.979</td>\n",
              "      <td>34.494</td>\n",
              "      <td>0.566</td>\n",
              "      <td>25.786</td>\n",
              "      <td>1.256</td>\n",
              "      <td>59.336</td>\n",
              "      <td>3</td>\n",
              "      <td>100</td>\n",
              "      <td>0</td>\n",
              "      <td>130</td>\n",
              "      <td>1</td>\n",
              "    </tr>\n",
              "    <tr>\n",
              "      <th>2</th>\n",
              "      <td>160.348</td>\n",
              "      <td>109.159</td>\n",
              "      <td>1.972</td>\n",
              "      <td>0.000</td>\n",
              "      <td>9.531</td>\n",
              "      <td>9.428</td>\n",
              "      <td>2519.928</td>\n",
              "      <td>6.719</td>\n",
              "      <td>10.366</td>\n",
              "      <td>37.881</td>\n",
              "      <td>42.442</td>\n",
              "      <td>39.632</td>\n",
              "      <td>35.646</td>\n",
              "      <td>0.577</td>\n",
              "      <td>22.218</td>\n",
              "      <td>1.113</td>\n",
              "      <td>59.543</td>\n",
              "      <td>3</td>\n",
              "      <td>100</td>\n",
              "      <td>0</td>\n",
              "      <td>130</td>\n",
              "      <td>1</td>\n",
              "    </tr>\n",
              "    <tr>\n",
              "      <th>3</th>\n",
              "      <td>160.188</td>\n",
              "      <td>109.065</td>\n",
              "      <td>1.947</td>\n",
              "      <td>0.000</td>\n",
              "      <td>9.439</td>\n",
              "      <td>9.337</td>\n",
              "      <td>2511.542</td>\n",
              "      <td>6.721</td>\n",
              "      <td>10.303</td>\n",
              "      <td>38.879</td>\n",
              "      <td>43.404</td>\n",
              "      <td>40.403</td>\n",
              "      <td>36.579</td>\n",
              "      <td>0.569</td>\n",
              "      <td>20.460</td>\n",
              "      <td>1.062</td>\n",
              "      <td>59.795</td>\n",
              "      <td>3</td>\n",
              "      <td>100</td>\n",
              "      <td>0</td>\n",
              "      <td>130</td>\n",
              "      <td>1</td>\n",
              "    </tr>\n",
              "    <tr>\n",
              "      <th>4</th>\n",
              "      <td>160.000</td>\n",
              "      <td>108.931</td>\n",
              "      <td>1.923</td>\n",
              "      <td>0.000</td>\n",
              "      <td>9.359</td>\n",
              "      <td>9.261</td>\n",
              "      <td>2503.450</td>\n",
              "      <td>6.690</td>\n",
              "      <td>10.238</td>\n",
              "      <td>39.804</td>\n",
              "      <td>44.333</td>\n",
              "      <td>41.311</td>\n",
              "      <td>37.428</td>\n",
              "      <td>0.577</td>\n",
              "      <td>19.787</td>\n",
              "      <td>1.070</td>\n",
              "      <td>59.455</td>\n",
              "      <td>3</td>\n",
              "      <td>100</td>\n",
              "      <td>0</td>\n",
              "      <td>130</td>\n",
              "      <td>1</td>\n",
              "    </tr>\n",
              "    <tr>\n",
              "      <th>...</th>\n",
              "      <td>...</td>\n",
              "      <td>...</td>\n",
              "      <td>...</td>\n",
              "      <td>...</td>\n",
              "      <td>...</td>\n",
              "      <td>...</td>\n",
              "      <td>...</td>\n",
              "      <td>...</td>\n",
              "      <td>...</td>\n",
              "      <td>...</td>\n",
              "      <td>...</td>\n",
              "      <td>...</td>\n",
              "      <td>...</td>\n",
              "      <td>...</td>\n",
              "      <td>...</td>\n",
              "      <td>...</td>\n",
              "      <td>...</td>\n",
              "      <td>...</td>\n",
              "      <td>...</td>\n",
              "      <td>...</td>\n",
              "      <td>...</td>\n",
              "      <td>...</td>\n",
              "    </tr>\n",
              "    <tr>\n",
              "      <th>2200</th>\n",
              "      <td>161.228</td>\n",
              "      <td>109.780</td>\n",
              "      <td>2.001</td>\n",
              "      <td>10.202</td>\n",
              "      <td>9.972</td>\n",
              "      <td>9.850</td>\n",
              "      <td>2543.911</td>\n",
              "      <td>6.690</td>\n",
              "      <td>10.185</td>\n",
              "      <td>35.314</td>\n",
              "      <td>40.875</td>\n",
              "      <td>38.269</td>\n",
              "      <td>30.405</td>\n",
              "      <td>0.551</td>\n",
              "      <td>46.629</td>\n",
              "      <td>2.161</td>\n",
              "      <td>59.033</td>\n",
              "      <td>100</td>\n",
              "      <td>100</td>\n",
              "      <td>0</td>\n",
              "      <td>90</td>\n",
              "      <td>0</td>\n",
              "    </tr>\n",
              "    <tr>\n",
              "      <th>2201</th>\n",
              "      <td>161.206</td>\n",
              "      <td>109.787</td>\n",
              "      <td>1.999</td>\n",
              "      <td>10.198</td>\n",
              "      <td>9.966</td>\n",
              "      <td>9.845</td>\n",
              "      <td>2543.411</td>\n",
              "      <td>6.692</td>\n",
              "      <td>10.178</td>\n",
              "      <td>35.322</td>\n",
              "      <td>40.869</td>\n",
              "      <td>38.268</td>\n",
              "      <td>30.416</td>\n",
              "      <td>0.547</td>\n",
              "      <td>46.690</td>\n",
              "      <td>2.151</td>\n",
              "      <td>59.068</td>\n",
              "      <td>100</td>\n",
              "      <td>100</td>\n",
              "      <td>0</td>\n",
              "      <td>90</td>\n",
              "      <td>0</td>\n",
              "    </tr>\n",
              "    <tr>\n",
              "      <th>2202</th>\n",
              "      <td>161.192</td>\n",
              "      <td>109.756</td>\n",
              "      <td>1.993</td>\n",
              "      <td>10.197</td>\n",
              "      <td>9.964</td>\n",
              "      <td>9.843</td>\n",
              "      <td>2542.730</td>\n",
              "      <td>6.693</td>\n",
              "      <td>10.176</td>\n",
              "      <td>35.319</td>\n",
              "      <td>40.876</td>\n",
              "      <td>38.246</td>\n",
              "      <td>30.426</td>\n",
              "      <td>0.545</td>\n",
              "      <td>46.472</td>\n",
              "      <td>2.143</td>\n",
              "      <td>59.132</td>\n",
              "      <td>100</td>\n",
              "      <td>100</td>\n",
              "      <td>0</td>\n",
              "      <td>90</td>\n",
              "      <td>0</td>\n",
              "    </tr>\n",
              "    <tr>\n",
              "      <th>2203</th>\n",
              "      <td>161.209</td>\n",
              "      <td>109.794</td>\n",
              "      <td>2.007</td>\n",
              "      <td>10.199</td>\n",
              "      <td>9.968</td>\n",
              "      <td>9.847</td>\n",
              "      <td>2544.046</td>\n",
              "      <td>6.684</td>\n",
              "      <td>10.178</td>\n",
              "      <td>35.325</td>\n",
              "      <td>40.876</td>\n",
              "      <td>38.246</td>\n",
              "      <td>30.414</td>\n",
              "      <td>0.537</td>\n",
              "      <td>46.545</td>\n",
              "      <td>2.148</td>\n",
              "      <td>58.971</td>\n",
              "      <td>100</td>\n",
              "      <td>100</td>\n",
              "      <td>0</td>\n",
              "      <td>90</td>\n",
              "      <td>0</td>\n",
              "    </tr>\n",
              "    <tr>\n",
              "      <th>2204</th>\n",
              "      <td>161.217</td>\n",
              "      <td>109.792</td>\n",
              "      <td>2.003</td>\n",
              "      <td>10.203</td>\n",
              "      <td>9.974</td>\n",
              "      <td>9.852</td>\n",
              "      <td>2543.818</td>\n",
              "      <td>6.692</td>\n",
              "      <td>10.183</td>\n",
              "      <td>35.322</td>\n",
              "      <td>40.859</td>\n",
              "      <td>38.249</td>\n",
              "      <td>30.391</td>\n",
              "      <td>0.547</td>\n",
              "      <td>46.648</td>\n",
              "      <td>2.157</td>\n",
              "      <td>59.054</td>\n",
              "      <td>100</td>\n",
              "      <td>100</td>\n",
              "      <td>0</td>\n",
              "      <td>90</td>\n",
              "      <td>0</td>\n",
              "    </tr>\n",
              "  </tbody>\n",
              "</table>\n",
              "<p>2205 rows × 22 columns</p>\n",
              "</div>"
            ],
            "text/plain": [
              "          PS1      PS2    PS3     PS4    PS5  ...   CC   VC  IPL   HA  SF\n",
              "0     160.673  109.467  1.991   0.000  9.842  ...    3  100    0  130   1\n",
              "1     160.603  109.355  1.976   0.000  9.635  ...    3  100    0  130   1\n",
              "2     160.348  109.159  1.972   0.000  9.531  ...    3  100    0  130   1\n",
              "3     160.188  109.065  1.947   0.000  9.439  ...    3  100    0  130   1\n",
              "4     160.000  108.931  1.923   0.000  9.359  ...    3  100    0  130   1\n",
              "...       ...      ...    ...     ...    ...  ...  ...  ...  ...  ...  ..\n",
              "2200  161.228  109.780  2.001  10.202  9.972  ...  100  100    0   90   0\n",
              "2201  161.206  109.787  1.999  10.198  9.966  ...  100  100    0   90   0\n",
              "2202  161.192  109.756  1.993  10.197  9.964  ...  100  100    0   90   0\n",
              "2203  161.209  109.794  2.007  10.199  9.968  ...  100  100    0   90   0\n",
              "2204  161.217  109.792  2.003  10.203  9.974  ...  100  100    0   90   0\n",
              "\n",
              "[2205 rows x 22 columns]"
            ]
          },
          "metadata": {},
          "execution_count": 64
        }
      ]
    },
    {
      "cell_type": "code",
      "metadata": {
        "id": "_S_7OzJrcKMY"
      },
      "source": [
        "dv_df = pd.DataFrame(columns=['CC','VC','IPL','HA'])"
      ],
      "execution_count": null,
      "outputs": []
    },
    {
      "cell_type": "code",
      "metadata": {
        "id": "Gkkf4trYcKIX"
      },
      "source": [
        "dv_df['CC']=y_pred_cc\n",
        "dv_df['VC']=y_pred_vc\n",
        "dv_df['IPL']=y_pred_ipl\n",
        "dv_df['HA']=y_pred_ha"
      ],
      "execution_count": null,
      "outputs": []
    },
    {
      "cell_type": "code",
      "metadata": {
        "colab": {
          "base_uri": "https://localhost:8080/",
          "height": 424
        },
        "id": "6E4-wSj6cKEN",
        "outputId": "a4c0cfea-d5fa-4e2b-bdaa-631e43330ac9"
      },
      "source": [
        "dv_df"
      ],
      "execution_count": null,
      "outputs": [
        {
          "output_type": "execute_result",
          "data": {
            "text/html": [
              "<div>\n",
              "<style scoped>\n",
              "    .dataframe tbody tr th:only-of-type {\n",
              "        vertical-align: middle;\n",
              "    }\n",
              "\n",
              "    .dataframe tbody tr th {\n",
              "        vertical-align: top;\n",
              "    }\n",
              "\n",
              "    .dataframe thead th {\n",
              "        text-align: right;\n",
              "    }\n",
              "</style>\n",
              "<table border=\"1\" class=\"dataframe\">\n",
              "  <thead>\n",
              "    <tr style=\"text-align: right;\">\n",
              "      <th></th>\n",
              "      <th>CC</th>\n",
              "      <th>VC</th>\n",
              "      <th>IPL</th>\n",
              "      <th>HA</th>\n",
              "    </tr>\n",
              "  </thead>\n",
              "  <tbody>\n",
              "    <tr>\n",
              "      <th>0</th>\n",
              "      <td>3</td>\n",
              "      <td>100</td>\n",
              "      <td>0</td>\n",
              "      <td>130</td>\n",
              "    </tr>\n",
              "    <tr>\n",
              "      <th>1</th>\n",
              "      <td>3</td>\n",
              "      <td>100</td>\n",
              "      <td>0</td>\n",
              "      <td>130</td>\n",
              "    </tr>\n",
              "    <tr>\n",
              "      <th>2</th>\n",
              "      <td>3</td>\n",
              "      <td>100</td>\n",
              "      <td>0</td>\n",
              "      <td>130</td>\n",
              "    </tr>\n",
              "    <tr>\n",
              "      <th>3</th>\n",
              "      <td>3</td>\n",
              "      <td>100</td>\n",
              "      <td>0</td>\n",
              "      <td>130</td>\n",
              "    </tr>\n",
              "    <tr>\n",
              "      <th>4</th>\n",
              "      <td>3</td>\n",
              "      <td>100</td>\n",
              "      <td>0</td>\n",
              "      <td>130</td>\n",
              "    </tr>\n",
              "    <tr>\n",
              "      <th>...</th>\n",
              "      <td>...</td>\n",
              "      <td>...</td>\n",
              "      <td>...</td>\n",
              "      <td>...</td>\n",
              "    </tr>\n",
              "    <tr>\n",
              "      <th>2200</th>\n",
              "      <td>100</td>\n",
              "      <td>100</td>\n",
              "      <td>0</td>\n",
              "      <td>90</td>\n",
              "    </tr>\n",
              "    <tr>\n",
              "      <th>2201</th>\n",
              "      <td>100</td>\n",
              "      <td>100</td>\n",
              "      <td>0</td>\n",
              "      <td>90</td>\n",
              "    </tr>\n",
              "    <tr>\n",
              "      <th>2202</th>\n",
              "      <td>100</td>\n",
              "      <td>100</td>\n",
              "      <td>0</td>\n",
              "      <td>90</td>\n",
              "    </tr>\n",
              "    <tr>\n",
              "      <th>2203</th>\n",
              "      <td>100</td>\n",
              "      <td>100</td>\n",
              "      <td>0</td>\n",
              "      <td>90</td>\n",
              "    </tr>\n",
              "    <tr>\n",
              "      <th>2204</th>\n",
              "      <td>100</td>\n",
              "      <td>100</td>\n",
              "      <td>0</td>\n",
              "      <td>90</td>\n",
              "    </tr>\n",
              "  </tbody>\n",
              "</table>\n",
              "<p>2205 rows × 4 columns</p>\n",
              "</div>"
            ],
            "text/plain": [
              "       CC   VC  IPL   HA\n",
              "0       3  100    0  130\n",
              "1       3  100    0  130\n",
              "2       3  100    0  130\n",
              "3       3  100    0  130\n",
              "4       3  100    0  130\n",
              "...   ...  ...  ...  ...\n",
              "2200  100  100    0   90\n",
              "2201  100  100    0   90\n",
              "2202  100  100    0   90\n",
              "2203  100  100    0   90\n",
              "2204  100  100    0   90\n",
              "\n",
              "[2205 rows x 4 columns]"
            ]
          },
          "metadata": {},
          "execution_count": 67
        }
      ]
    },
    {
      "cell_type": "code",
      "metadata": {
        "id": "prCQsCWGcJ_9"
      },
      "source": [
        "X = dv_df.iloc[:,:]\n",
        "y = data.iloc[:,-1]"
      ],
      "execution_count": null,
      "outputs": []
    },
    {
      "cell_type": "code",
      "metadata": {
        "id": "hX6O_m3mk8pG"
      },
      "source": [],
      "execution_count": null,
      "outputs": []
    },
    {
      "cell_type": "code",
      "metadata": {
        "id": "EBEijVfdcJ7t"
      },
      "source": [
        "X = data.iloc[:,-5:-1]\n",
        "y = data.iloc[:,-1]"
      ],
      "execution_count": null,
      "outputs": []
    },
    {
      "cell_type": "code",
      "metadata": {
        "id": "hmduBLJ5cJ3s",
        "colab": {
          "base_uri": "https://localhost:8080/",
          "height": 424
        },
        "outputId": "c4c5529f-d991-42b5-f20d-f77962099a08"
      },
      "source": [
        "X\n"
      ],
      "execution_count": null,
      "outputs": [
        {
          "output_type": "execute_result",
          "data": {
            "text/html": [
              "<div>\n",
              "<style scoped>\n",
              "    .dataframe tbody tr th:only-of-type {\n",
              "        vertical-align: middle;\n",
              "    }\n",
              "\n",
              "    .dataframe tbody tr th {\n",
              "        vertical-align: top;\n",
              "    }\n",
              "\n",
              "    .dataframe thead th {\n",
              "        text-align: right;\n",
              "    }\n",
              "</style>\n",
              "<table border=\"1\" class=\"dataframe\">\n",
              "  <thead>\n",
              "    <tr style=\"text-align: right;\">\n",
              "      <th></th>\n",
              "      <th>CC</th>\n",
              "      <th>VC</th>\n",
              "      <th>IPL</th>\n",
              "      <th>HA</th>\n",
              "    </tr>\n",
              "  </thead>\n",
              "  <tbody>\n",
              "    <tr>\n",
              "      <th>0</th>\n",
              "      <td>3</td>\n",
              "      <td>100</td>\n",
              "      <td>0</td>\n",
              "      <td>130</td>\n",
              "    </tr>\n",
              "    <tr>\n",
              "      <th>1</th>\n",
              "      <td>3</td>\n",
              "      <td>100</td>\n",
              "      <td>0</td>\n",
              "      <td>130</td>\n",
              "    </tr>\n",
              "    <tr>\n",
              "      <th>2</th>\n",
              "      <td>3</td>\n",
              "      <td>100</td>\n",
              "      <td>0</td>\n",
              "      <td>130</td>\n",
              "    </tr>\n",
              "    <tr>\n",
              "      <th>3</th>\n",
              "      <td>3</td>\n",
              "      <td>100</td>\n",
              "      <td>0</td>\n",
              "      <td>130</td>\n",
              "    </tr>\n",
              "    <tr>\n",
              "      <th>4</th>\n",
              "      <td>3</td>\n",
              "      <td>100</td>\n",
              "      <td>0</td>\n",
              "      <td>130</td>\n",
              "    </tr>\n",
              "    <tr>\n",
              "      <th>...</th>\n",
              "      <td>...</td>\n",
              "      <td>...</td>\n",
              "      <td>...</td>\n",
              "      <td>...</td>\n",
              "    </tr>\n",
              "    <tr>\n",
              "      <th>2200</th>\n",
              "      <td>100</td>\n",
              "      <td>100</td>\n",
              "      <td>0</td>\n",
              "      <td>90</td>\n",
              "    </tr>\n",
              "    <tr>\n",
              "      <th>2201</th>\n",
              "      <td>100</td>\n",
              "      <td>100</td>\n",
              "      <td>0</td>\n",
              "      <td>90</td>\n",
              "    </tr>\n",
              "    <tr>\n",
              "      <th>2202</th>\n",
              "      <td>100</td>\n",
              "      <td>100</td>\n",
              "      <td>0</td>\n",
              "      <td>90</td>\n",
              "    </tr>\n",
              "    <tr>\n",
              "      <th>2203</th>\n",
              "      <td>100</td>\n",
              "      <td>100</td>\n",
              "      <td>0</td>\n",
              "      <td>90</td>\n",
              "    </tr>\n",
              "    <tr>\n",
              "      <th>2204</th>\n",
              "      <td>100</td>\n",
              "      <td>100</td>\n",
              "      <td>0</td>\n",
              "      <td>90</td>\n",
              "    </tr>\n",
              "  </tbody>\n",
              "</table>\n",
              "<p>2205 rows × 4 columns</p>\n",
              "</div>"
            ],
            "text/plain": [
              "       CC   VC  IPL   HA\n",
              "0       3  100    0  130\n",
              "1       3  100    0  130\n",
              "2       3  100    0  130\n",
              "3       3  100    0  130\n",
              "4       3  100    0  130\n",
              "...   ...  ...  ...  ...\n",
              "2200  100  100    0   90\n",
              "2201  100  100    0   90\n",
              "2202  100  100    0   90\n",
              "2203  100  100    0   90\n",
              "2204  100  100    0   90\n",
              "\n",
              "[2205 rows x 4 columns]"
            ]
          },
          "metadata": {},
          "execution_count": 70
        }
      ]
    },
    {
      "cell_type": "code",
      "metadata": {
        "id": "_NdwtOrkcJzp"
      },
      "source": [
        "from sklearn.model_selection import train_test_split\n",
        "X_train, X_test, y_train, y_test = train_test_split(X, y, test_size = 0.2, random_state = 10)"
      ],
      "execution_count": null,
      "outputs": []
    },
    {
      "cell_type": "code",
      "metadata": {
        "id": "Fwgf2452cJvg"
      },
      "source": [
        "full_pipeline = [pipeline_lr,pipeline_dt,pipeline_rf,pipeline_knn,pipeline_svm,pipeline_nb]\n",
        "\n",
        "for i in full_pipeline:\n",
        "  i.fit(X_train,y_train)"
      ],
      "execution_count": null,
      "outputs": []
    },
    {
      "cell_type": "code",
      "metadata": {
        "colab": {
          "base_uri": "https://localhost:8080/"
        },
        "id": "L45qYQ2HcJrh",
        "outputId": "603c09e4-e6ad-44ec-c2fa-724f35845a41"
      },
      "source": [
        "full_pipeline_str = ['Logistic regression','dession tree','random forest','KNN','SVM','Navie bayse']\n",
        "\n",
        "from sklearn.metrics import confusion_matrix, accuracy_score\n",
        "for i,j in zip(full_pipeline,full_pipeline_str):\n",
        "  y_pred = i.predict(X_test)\n",
        "  print(j,':-')\n",
        "  acc_scores(i,X_train,y_train)\n",
        "  cm = confusion_matrix(y_test, y_pred)\n",
        "  print(cm)\n",
        "  print(\"Accuracy: {:.4f} %\".format(accuracy_score(y_test, y_pred)*100))\n",
        "  print(\"\\n\\n\")"
      ],
      "execution_count": null,
      "outputs": [
        {
          "output_type": "stream",
          "name": "stdout",
          "text": [
            "Logistic regression :-\n",
            "scores: [0.63218391 0.62068966 0.63793103 0.64942529 0.61494253 0.62643678\n",
            " 0.57471264 0.63793103 0.64367816 0.63218391]\n",
            "k-fold accuracy:62.70%\n",
            "standard Deviation:2.00%\n",
            "[[224  55]\n",
            " [108  48]]\n",
            "Accuracy: 62.5287 %\n",
            "\n",
            "\n",
            "\n",
            "dession tree :-\n",
            "scores: [0.93678161 0.88505747 0.9137931  0.91954023 0.89655172 0.8908046\n",
            " 0.89655172 0.92528736 0.90804598 0.94827586]\n",
            "k-fold accuracy:91.21%\n",
            "standard Deviation:1.96%\n",
            "[[255  24]\n",
            " [  8 148]]\n",
            "Accuracy: 92.6437 %\n",
            "\n",
            "\n",
            "\n",
            "random forest :-\n",
            "scores: [0.93678161 0.88505747 0.9137931  0.91954023 0.89655172 0.8908046\n",
            " 0.89655172 0.92528736 0.90804598 0.94827586]\n",
            "k-fold accuracy:91.21%\n",
            "standard Deviation:1.96%\n",
            "[[257  22]\n",
            " [  8 148]]\n",
            "Accuracy: 93.1034 %\n",
            "\n",
            "\n",
            "\n",
            "KNN :-\n",
            "scores: [0.93678161 0.88505747 0.9137931  0.84482759 0.89655172 0.8908046\n",
            " 0.89655172 0.91954023 0.90804598 0.94252874]\n",
            "k-fold accuracy:90.34%\n",
            "standard Deviation:2.66%\n",
            "[[257  22]\n",
            " [  8 148]]\n",
            "Accuracy: 93.1034 %\n",
            "\n",
            "\n",
            "\n",
            "SVM :-\n",
            "scores: [0.9137931  0.8908046  0.87931034 0.90229885 0.90229885 0.8908046\n",
            " 0.87931034 0.90229885 0.89655172 0.94252874]\n",
            "k-fold accuracy:90.00%\n",
            "standard Deviation:1.75%\n",
            "[[248  31]\n",
            " [  5 151]]\n",
            "Accuracy: 91.7241 %\n",
            "\n",
            "\n",
            "\n",
            "Navie bayse :-\n",
            "scores: [0.74712644 0.73563218 0.70689655 0.72413793 0.71264368 0.71264368\n",
            " 0.71264368 0.68965517 0.70689655 0.78735632]\n",
            "k-fold accuracy:72.36%\n",
            "standard Deviation:2.61%\n",
            "[[199  80]\n",
            " [ 31 125]]\n",
            "Accuracy: 74.4828 %\n",
            "\n",
            "\n",
            "\n"
          ]
        }
      ]
    },
    {
      "cell_type": "code",
      "metadata": {
        "id": "mmS8gpTAcJnQ"
      },
      "source": [
        "y_pred_sf = pipeline_svm.predict(X_test)"
      ],
      "execution_count": null,
      "outputs": []
    },
    {
      "cell_type": "code",
      "metadata": {
        "id": "thk1W1OClEfl",
        "colab": {
          "base_uri": "https://localhost:8080/"
        },
        "outputId": "28474154-01d1-46be-ced5-a2fe449c6366"
      },
      "source": [
        "y_pred_sf"
      ],
      "execution_count": null,
      "outputs": [
        {
          "output_type": "execute_result",
          "data": {
            "text/plain": [
              "array([0, 0, 0, 1, 0, 0, 1, 1, 1, 0, 1, 1, 1, 0, 0, 1, 1, 1, 1, 0, 1, 0,\n",
              "       0, 0, 1, 0, 1, 1, 1, 1, 1, 1, 1, 1, 0, 0, 0, 1, 1, 0, 0, 0, 0, 1,\n",
              "       0, 1, 0, 1, 1, 1, 0, 1, 1, 0, 1, 1, 0, 1, 1, 0, 1, 0, 1, 0, 0, 1,\n",
              "       0, 1, 1, 1, 0, 1, 1, 1, 0, 0, 0, 0, 1, 0, 0, 0, 1, 1, 0, 0, 0, 1,\n",
              "       1, 0, 0, 1, 1, 0, 0, 1, 1, 1, 1, 0, 0, 1, 0, 0, 1, 0, 0, 1, 1, 1,\n",
              "       0, 0, 0, 1, 0, 1, 1, 0, 0, 1, 0, 0, 0, 1, 1, 0, 0, 1, 0, 0, 1, 0,\n",
              "       1, 1, 0, 0, 0, 0, 0, 1, 0, 1, 1, 0, 1, 0, 1, 0, 0, 0, 1, 0, 0, 1,\n",
              "       1, 0, 0, 1, 0, 0, 0, 0, 1, 0, 0, 0, 0, 1, 0, 0, 1, 0, 0, 1, 1, 0,\n",
              "       0, 0, 1, 1, 1, 1, 0, 0, 0, 1, 0, 0, 1, 0, 1, 0, 0, 0, 1, 1, 1, 1,\n",
              "       0, 1, 0, 0, 1, 1, 0, 1, 0, 1, 0, 0, 1, 0, 0, 0, 0, 0, 0, 1, 0, 0,\n",
              "       0, 1, 0, 0, 1, 0, 1, 0, 0, 1, 0, 0, 1, 0, 0, 0, 1, 1, 0, 0, 0, 0,\n",
              "       0, 1, 0, 0, 1, 1, 0, 0, 1, 1, 1, 0, 1, 1, 0, 1, 1, 0, 0, 0, 1, 0,\n",
              "       1, 0, 0, 0, 1, 0, 0, 0, 0, 0, 0, 0, 0, 1, 1, 0, 0, 1, 1, 1, 1, 1,\n",
              "       0, 0, 0, 0, 0, 0, 0, 1, 1, 0, 1, 0, 1, 0, 0, 0, 1, 0, 0, 0, 1, 1,\n",
              "       0, 1, 0, 1, 0, 0, 0, 0, 0, 1, 0, 0, 0, 0, 1, 0, 1, 0, 0, 1, 0, 0,\n",
              "       0, 1, 1, 0, 1, 0, 0, 0, 1, 0, 1, 1, 0, 0, 1, 0, 1, 0, 0, 0, 1, 0,\n",
              "       0, 0, 1, 0, 0, 1, 0, 1, 1, 1, 0, 0, 0, 1, 1, 1, 0, 0, 1, 1, 0, 1,\n",
              "       1, 0, 1, 0, 1, 1, 1, 1, 0, 0, 1, 1, 0, 0, 1, 0, 0, 1, 0, 0, 0, 1,\n",
              "       1, 0, 0, 0, 1, 0, 0, 1, 0, 1, 1, 1, 0, 0, 0, 0, 0, 0, 0, 0, 1, 0,\n",
              "       0, 1, 1, 0, 1, 1, 1, 0, 0, 1, 0, 1, 0, 0, 1, 0, 0, 1, 0, 1, 0, 0,\n",
              "       0])"
            ]
          },
          "metadata": {},
          "execution_count": 75
        }
      ]
    },
    {
      "cell_type": "markdown",
      "metadata": {
        "id": "JpMqa8XY2938"
      },
      "source": [
        "## MACHINE PREDICT BEFORE 30 MIN"
      ]
    },
    {
      "cell_type": "code",
      "metadata": {
        "colab": {
          "base_uri": "https://localhost:8080/",
          "height": 424
        },
        "id": "YQ7t0RnO29Fx",
        "outputId": "6b3f4742-849f-4ab9-c286-e5447acd6cee"
      },
      "source": [
        "X"
      ],
      "execution_count": null,
      "outputs": [
        {
          "output_type": "execute_result",
          "data": {
            "text/html": [
              "<div>\n",
              "<style scoped>\n",
              "    .dataframe tbody tr th:only-of-type {\n",
              "        vertical-align: middle;\n",
              "    }\n",
              "\n",
              "    .dataframe tbody tr th {\n",
              "        vertical-align: top;\n",
              "    }\n",
              "\n",
              "    .dataframe thead th {\n",
              "        text-align: right;\n",
              "    }\n",
              "</style>\n",
              "<table border=\"1\" class=\"dataframe\">\n",
              "  <thead>\n",
              "    <tr style=\"text-align: right;\">\n",
              "      <th></th>\n",
              "      <th>CC</th>\n",
              "      <th>VC</th>\n",
              "      <th>IPL</th>\n",
              "      <th>HA</th>\n",
              "    </tr>\n",
              "  </thead>\n",
              "  <tbody>\n",
              "    <tr>\n",
              "      <th>0</th>\n",
              "      <td>3</td>\n",
              "      <td>100</td>\n",
              "      <td>0</td>\n",
              "      <td>130</td>\n",
              "    </tr>\n",
              "    <tr>\n",
              "      <th>1</th>\n",
              "      <td>3</td>\n",
              "      <td>100</td>\n",
              "      <td>0</td>\n",
              "      <td>130</td>\n",
              "    </tr>\n",
              "    <tr>\n",
              "      <th>2</th>\n",
              "      <td>3</td>\n",
              "      <td>100</td>\n",
              "      <td>0</td>\n",
              "      <td>130</td>\n",
              "    </tr>\n",
              "    <tr>\n",
              "      <th>3</th>\n",
              "      <td>3</td>\n",
              "      <td>100</td>\n",
              "      <td>0</td>\n",
              "      <td>130</td>\n",
              "    </tr>\n",
              "    <tr>\n",
              "      <th>4</th>\n",
              "      <td>3</td>\n",
              "      <td>100</td>\n",
              "      <td>0</td>\n",
              "      <td>130</td>\n",
              "    </tr>\n",
              "    <tr>\n",
              "      <th>...</th>\n",
              "      <td>...</td>\n",
              "      <td>...</td>\n",
              "      <td>...</td>\n",
              "      <td>...</td>\n",
              "    </tr>\n",
              "    <tr>\n",
              "      <th>2200</th>\n",
              "      <td>100</td>\n",
              "      <td>100</td>\n",
              "      <td>0</td>\n",
              "      <td>90</td>\n",
              "    </tr>\n",
              "    <tr>\n",
              "      <th>2201</th>\n",
              "      <td>100</td>\n",
              "      <td>100</td>\n",
              "      <td>0</td>\n",
              "      <td>90</td>\n",
              "    </tr>\n",
              "    <tr>\n",
              "      <th>2202</th>\n",
              "      <td>100</td>\n",
              "      <td>100</td>\n",
              "      <td>0</td>\n",
              "      <td>90</td>\n",
              "    </tr>\n",
              "    <tr>\n",
              "      <th>2203</th>\n",
              "      <td>100</td>\n",
              "      <td>100</td>\n",
              "      <td>0</td>\n",
              "      <td>90</td>\n",
              "    </tr>\n",
              "    <tr>\n",
              "      <th>2204</th>\n",
              "      <td>100</td>\n",
              "      <td>100</td>\n",
              "      <td>0</td>\n",
              "      <td>90</td>\n",
              "    </tr>\n",
              "  </tbody>\n",
              "</table>\n",
              "<p>2205 rows × 4 columns</p>\n",
              "</div>"
            ],
            "text/plain": [
              "       CC   VC  IPL   HA\n",
              "0       3  100    0  130\n",
              "1       3  100    0  130\n",
              "2       3  100    0  130\n",
              "3       3  100    0  130\n",
              "4       3  100    0  130\n",
              "...   ...  ...  ...  ...\n",
              "2200  100  100    0   90\n",
              "2201  100  100    0   90\n",
              "2202  100  100    0   90\n",
              "2203  100  100    0   90\n",
              "2204  100  100    0   90\n",
              "\n",
              "[2205 rows x 4 columns]"
            ]
          },
          "metadata": {},
          "execution_count": 76
        }
      ]
    },
    {
      "cell_type": "code",
      "metadata": {
        "colab": {
          "base_uri": "https://localhost:8080/"
        },
        "id": "YD4MDu2F4YXR",
        "outputId": "4fc7c252-34a3-4a48-f402-e21809d0879e"
      },
      "source": [
        "y"
      ],
      "execution_count": null,
      "outputs": [
        {
          "output_type": "execute_result",
          "data": {
            "text/plain": [
              "0       1\n",
              "1       1\n",
              "2       1\n",
              "3       1\n",
              "4       1\n",
              "       ..\n",
              "2200    0\n",
              "2201    0\n",
              "2202    0\n",
              "2203    0\n",
              "2204    0\n",
              "Name: SF, Length: 2205, dtype: int64"
            ]
          },
          "metadata": {},
          "execution_count": 77
        }
      ]
    },
    {
      "cell_type": "code",
      "metadata": {
        "id": "kvFNK12PlEa2"
      },
      "source": [
        "XX = X.drop(index = np.arange(15))\n",
        "yy = y.iloc[:2190]"
      ],
      "execution_count": null,
      "outputs": []
    },
    {
      "cell_type": "code",
      "metadata": {
        "id": "CFoMkVvjlEWH",
        "colab": {
          "base_uri": "https://localhost:8080/",
          "height": 424
        },
        "outputId": "32f52f22-47ad-40f6-876d-cd6ec3427fd5"
      },
      "source": [
        "XX = X.iloc[30:,:]\n",
        "yy=y.iloc[:-30]\n"
      ],
      "execution_count": null,
      "outputs": [
        {
          "output_type": "execute_result",
          "data": {
            "text/html": [
              "<div>\n",
              "<style scoped>\n",
              "    .dataframe tbody tr th:only-of-type {\n",
              "        vertical-align: middle;\n",
              "    }\n",
              "\n",
              "    .dataframe tbody tr th {\n",
              "        vertical-align: top;\n",
              "    }\n",
              "\n",
              "    .dataframe thead th {\n",
              "        text-align: right;\n",
              "    }\n",
              "</style>\n",
              "<table border=\"1\" class=\"dataframe\">\n",
              "  <thead>\n",
              "    <tr style=\"text-align: right;\">\n",
              "      <th></th>\n",
              "      <th>CC</th>\n",
              "      <th>VC</th>\n",
              "      <th>IPL</th>\n",
              "      <th>HA</th>\n",
              "    </tr>\n",
              "  </thead>\n",
              "  <tbody>\n",
              "    <tr>\n",
              "      <th>30</th>\n",
              "      <td>3</td>\n",
              "      <td>100</td>\n",
              "      <td>0</td>\n",
              "      <td>130</td>\n",
              "    </tr>\n",
              "    <tr>\n",
              "      <th>31</th>\n",
              "      <td>3</td>\n",
              "      <td>100</td>\n",
              "      <td>0</td>\n",
              "      <td>130</td>\n",
              "    </tr>\n",
              "    <tr>\n",
              "      <th>32</th>\n",
              "      <td>3</td>\n",
              "      <td>100</td>\n",
              "      <td>0</td>\n",
              "      <td>130</td>\n",
              "    </tr>\n",
              "    <tr>\n",
              "      <th>33</th>\n",
              "      <td>3</td>\n",
              "      <td>100</td>\n",
              "      <td>0</td>\n",
              "      <td>130</td>\n",
              "    </tr>\n",
              "    <tr>\n",
              "      <th>34</th>\n",
              "      <td>3</td>\n",
              "      <td>100</td>\n",
              "      <td>0</td>\n",
              "      <td>130</td>\n",
              "    </tr>\n",
              "    <tr>\n",
              "      <th>...</th>\n",
              "      <td>...</td>\n",
              "      <td>...</td>\n",
              "      <td>...</td>\n",
              "      <td>...</td>\n",
              "    </tr>\n",
              "    <tr>\n",
              "      <th>2200</th>\n",
              "      <td>100</td>\n",
              "      <td>100</td>\n",
              "      <td>0</td>\n",
              "      <td>90</td>\n",
              "    </tr>\n",
              "    <tr>\n",
              "      <th>2201</th>\n",
              "      <td>100</td>\n",
              "      <td>100</td>\n",
              "      <td>0</td>\n",
              "      <td>90</td>\n",
              "    </tr>\n",
              "    <tr>\n",
              "      <th>2202</th>\n",
              "      <td>100</td>\n",
              "      <td>100</td>\n",
              "      <td>0</td>\n",
              "      <td>90</td>\n",
              "    </tr>\n",
              "    <tr>\n",
              "      <th>2203</th>\n",
              "      <td>100</td>\n",
              "      <td>100</td>\n",
              "      <td>0</td>\n",
              "      <td>90</td>\n",
              "    </tr>\n",
              "    <tr>\n",
              "      <th>2204</th>\n",
              "      <td>100</td>\n",
              "      <td>100</td>\n",
              "      <td>0</td>\n",
              "      <td>90</td>\n",
              "    </tr>\n",
              "  </tbody>\n",
              "</table>\n",
              "<p>2175 rows × 4 columns</p>\n",
              "</div>"
            ],
            "text/plain": [
              "       CC   VC  IPL   HA\n",
              "30      3  100    0  130\n",
              "31      3  100    0  130\n",
              "32      3  100    0  130\n",
              "33      3  100    0  130\n",
              "34      3  100    0  130\n",
              "...   ...  ...  ...  ...\n",
              "2200  100  100    0   90\n",
              "2201  100  100    0   90\n",
              "2202  100  100    0   90\n",
              "2203  100  100    0   90\n",
              "2204  100  100    0   90\n",
              "\n",
              "[2175 rows x 4 columns]"
            ]
          },
          "metadata": {},
          "execution_count": 96
        }
      ]
    },
    {
      "cell_type": "code",
      "metadata": {
        "id": "yzTWhkqUlELq"
      },
      "source": [
        "from sklearn.model_selection import train_test_split\n",
        "X_train, X_test, y_train, y_test = train_test_split(XX, yy, test_size = 0.2, random_state = 10)"
      ],
      "execution_count": null,
      "outputs": []
    },
    {
      "cell_type": "markdown",
      "metadata": {
        "id": "pEdxKlo86I4Y"
      },
      "source": [
        "## Finally We Got KNN is giving best result on our data"
      ]
    },
    {
      "cell_type": "code",
      "metadata": {
        "id": "lQvs2ge3lEHI"
      },
      "source": [
        "# 86% accuracy we will got if we use KNN which is before 30 min comes"
      ],
      "execution_count": null,
      "outputs": []
    },
    {
      "cell_type": "code",
      "metadata": {
        "id": "3Qu-Y2RnlECQ"
      },
      "source": [],
      "execution_count": null,
      "outputs": []
    },
    {
      "cell_type": "code",
      "metadata": {
        "id": "S3EK7UPxlD9Y"
      },
      "source": [],
      "execution_count": null,
      "outputs": []
    },
    {
      "cell_type": "code",
      "metadata": {
        "id": "UifmmkWZlD35"
      },
      "source": [],
      "execution_count": null,
      "outputs": []
    },
    {
      "cell_type": "code",
      "metadata": {
        "id": "vrEk9k8QlDxM"
      },
      "source": [],
      "execution_count": null,
      "outputs": []
    },
    {
      "cell_type": "code",
      "metadata": {
        "id": "0lbyIBQblDq0"
      },
      "source": [],
      "execution_count": null,
      "outputs": []
    },
    {
      "cell_type": "code",
      "metadata": {
        "id": "51gMhDFClDlJ"
      },
      "source": [],
      "execution_count": null,
      "outputs": []
    },
    {
      "cell_type": "code",
      "metadata": {
        "id": "pigpUeiOlDfq"
      },
      "source": [],
      "execution_count": null,
      "outputs": []
    },
    {
      "cell_type": "code",
      "metadata": {
        "id": "rVKBs1WElDaR"
      },
      "source": [],
      "execution_count": null,
      "outputs": []
    },
    {
      "cell_type": "code",
      "metadata": {
        "id": "D2AyxYBVlDVf"
      },
      "source": [],
      "execution_count": null,
      "outputs": []
    }
  ]
}